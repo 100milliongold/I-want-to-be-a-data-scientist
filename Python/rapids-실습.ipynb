{
  "nbformat": 4,
  "nbformat_minor": 0,
  "metadata": {
    "colab": {
      "name": "rapids-colab.ipynb",
      "provenance": [],
      "collapsed_sections": [],
      "include_colab_link": true
    },
    "kernelspec": {
      "name": "python3",
      "display_name": "Python 3"
    },
    "accelerator": "GPU"
  },
  "cells": [
    {
      "cell_type": "markdown",
      "metadata": {
        "id": "view-in-github",
        "colab_type": "text"
      },
      "source": [
        "<a href=\"https://colab.research.google.com/github/100milliongold/I-want-to-be-a-data-scientist/blob/main/Python/rapids-%EC%8B%A4%EC%8A%B5.ipynb\" target=\"_parent\"><img src=\"https://colab.research.google.com/assets/colab-badge.svg\" alt=\"Open In Colab\"/></a>"
      ]
    },
    {
      "cell_type": "markdown",
      "metadata": {
        "id": "scfLT2i0MLyD"
      },
      "source": [
        "# Environment Sanity Check #\n",
        "\n",
        "Click the _Runtime_ dropdown at the top of the page, then _Change Runtime Type_ and confirm the instance type is _GPU_.\n",
        "\n",
        "Check the output of `!nvidia-smi` to make sure you've been allocated a Tesla T4, P4, or P100."
      ]
    },
    {
      "cell_type": "code",
      "metadata": {
        "id": "B0C8IV5TQnjN",
        "colab": {
          "base_uri": "https://localhost:8080/"
        },
        "outputId": "b5254097-59db-4e37-9849-49058ee0045f"
      },
      "source": [
        "!nvidia-smi"
      ],
      "execution_count": 2,
      "outputs": [
        {
          "output_type": "stream",
          "text": [
            "Thu Dec 17 19:43:41 2020       \n",
            "+-----------------------------------------------------------------------------+\n",
            "| NVIDIA-SMI 455.45.01    Driver Version: 418.67       CUDA Version: 10.1     |\n",
            "|-------------------------------+----------------------+----------------------+\n",
            "| GPU  Name        Persistence-M| Bus-Id        Disp.A | Volatile Uncorr. ECC |\n",
            "| Fan  Temp  Perf  Pwr:Usage/Cap|         Memory-Usage | GPU-Util  Compute M. |\n",
            "|                               |                      |               MIG M. |\n",
            "|===============================+======================+======================|\n",
            "|   0  Tesla P100-PCIE...  Off  | 00000000:00:04.0 Off |                    0 |\n",
            "| N/A   34C    P0    26W / 250W |      0MiB / 16280MiB |      0%      Default |\n",
            "|                               |                      |                 ERR! |\n",
            "+-------------------------------+----------------------+----------------------+\n",
            "                                                                               \n",
            "+-----------------------------------------------------------------------------+\n",
            "| Processes:                                                                  |\n",
            "|  GPU   GI   CI        PID   Type   Process name                  GPU Memory |\n",
            "|        ID   ID                                                   Usage      |\n",
            "|=============================================================================|\n",
            "|  No running processes found                                                 |\n",
            "+-----------------------------------------------------------------------------+\n"
          ],
          "name": "stdout"
        }
      ]
    },
    {
      "cell_type": "markdown",
      "metadata": {
        "id": "CtNdk7PSafKP"
      },
      "source": [
        "#Setup:\n",
        "Set up script installs\n",
        "1. Install most recent Miniconda release compatible with Google Colab's Python install  (3.6.7)\n",
        "1. removes incompatible files\n",
        "1. Install RAPIDS 0.14 libraries including:\n",
        "  1. cuDF\n",
        "  1. cuML\n",
        "  1. cuGraph\n",
        "  1. cuSpatial\n",
        "  1. cuSignal\n",
        "  1. xgboost and dask-xgboost\n",
        "1. Set necessary environment variables\n",
        "1. Copy RAPIDS .so files into current working directory, a workaround for conda/colab interactions\n",
        "1. If running v0.11 or higher, updates pyarrow library to 0.15.x."
      ]
    },
    {
      "cell_type": "code",
      "metadata": {
        "id": "m0jdXBRiDSzj",
        "colab": {
          "base_uri": "https://localhost:8080/"
        },
        "outputId": "5666c9b5-9cf1-44f4-cd7b-168c2db21843"
      },
      "source": [
        "# Install RAPIDS\n",
        "!git clone https://github.com/rapidsai/rapidsai-csp-utils.git\n",
        "!bash rapidsai-csp-utils/colab/rapids-colab.sh stable\n",
        "\n",
        "import sys, os\n",
        "\n",
        "dist_package_index = sys.path.index('/usr/local/lib/python3.6/dist-packages')\n",
        "sys.path = sys.path[:dist_package_index] + ['/usr/local/lib/python3.6/site-packages'] + sys.path[dist_package_index:]\n",
        "sys.path\n",
        "exec(open('rapidsai-csp-utils/colab/update_modules.py').read(), globals())"
      ],
      "execution_count": 3,
      "outputs": [
        {
          "output_type": "stream",
          "text": [
            "fatal: destination path 'rapidsai-csp-utils' already exists and is not an empty directory.\n",
            "PLEASE READ\n",
            "********************************************************************************************************\n",
            "Changes:\n",
            "1. IMPORTANT CHANGES: RAPIDS on Colab will be pegged to 0.14 Stable until further notice.\n",
            "2. Default stable version is now 0.14.  Nightly will redirect to 0.14.\n",
            "3. You can now declare your RAPIDSAI version as a CLI option and skip the user prompts (ex: '0.14' or '0.15', between 0.13 to 0.14, without the quotes): \n",
            "        \"!bash rapidsai-csp-utils/colab/rapids-colab.sh <version/label>\"\n",
            "        Examples: '!bash rapidsai-csp-utils/colab/rapids-colab.sh 0.14', or '!bash rapidsai-csp-utils/colab/rapids-colab.sh stable', or '!bash rapidsai-csp-utils/colab/rapids-colab.sh s'\n",
            "                  '!bash rapidsai-csp-utils/colab/rapids-colab.sh 0.15, or '!bash rapidsai-csp-utils/colab/rapids-colab.sh nightly', or '!bash rapidsai-csp-utils/colab/rapids-colab.sh n'\n",
            "Enjoy using RAPIDS!  If you have any issues with or suggestions for RAPIDSAI on Colab, please create a bug request on https://github.com/rapidsai/rapidsai-csp-utils/issues/new.  Thanks!\n",
            "Starting to prep Colab for install RAPIDS Version 0.14 stable\n",
            "Checking for GPU type:\n",
            "***********************************************************************\n",
            "Woo! Your instance has the right kind of GPU, a 'Tesla P100-PCIE-16GB'!\n",
            "***********************************************************************\n",
            "\n",
            "\n",
            "************************************************\n",
            "Your Google Colab instance has RAPIDS installed!\n",
            "************************************************\n",
            "***********************************************************************\n",
            "Let us check on those pyarrow and cffi versions...\n",
            "***********************************************************************\n",
            "\n",
            "You're don't have pyarrow.\n",
            "unloaded cffi 1.14.4\n",
            "loaded cffi 1.14.4\n"
          ],
          "name": "stdout"
        }
      ]
    },
    {
      "cell_type": "markdown",
      "metadata": {
        "id": "9oOCJ4NYMjY7"
      },
      "source": [
        "# cuDF and cuML Examples #\n",
        "\n",
        "Now you can run code! \n",
        "\n",
        "What follows are basic examples where all processing takes place on the GPU."
      ]
    },
    {
      "cell_type": "markdown",
      "metadata": {
        "id": "V38dg-oUJtEO"
      },
      "source": [
        "#[cuDF](https://github.com/rapidsai/cudf)#\n",
        "\n",
        "Load a dataset into a GPU memory resident DataFrame and perform a basic calculation.\n",
        "\n",
        "Everything from CSV parsing to calculating tip percentage and computing a grouped average is done on the GPU.\n",
        "\n",
        "_Note_: You must import nvstrings and nvcategory before cudf, else you'll get errors."
      ]
    },
    {
      "cell_type": "code",
      "metadata": {
        "id": "pqzDYk6tXDqC",
        "colab": {
          "base_uri": "https://localhost:8080/"
        },
        "outputId": "80c0199c-7ef8-434a-b0e9-2cd02ffe9eb2"
      },
      "source": [
        "!find / -name libllvmlite.so*\r\n"
      ],
      "execution_count": 4,
      "outputs": [
        {
          "output_type": "stream",
          "text": [
            "/usr/local/lib/python3.6/dist-packages/llvmlite/binding/libllvmlite.so\n",
            "/usr/local/lib/python3.6/site-packages/llvmlite/binding/libllvmlite.so\n",
            "/usr/local/lib/python2.7/dist-packages/llvmlite/binding/libllvmlite.so\n",
            "/usr/local/pkgs/llvmlite-0.32.1-py36hfa65bc7_0/lib/python3.6/site-packages/llvmlite/binding/libllvmlite.so\n",
            "/usr/local/pkgs/llvmlite-0.33.0-py36hfa65bc7_1/lib/python3.6/site-packages/llvmlite/binding/libllvmlite.so\n",
            "find: ‘/proc/15358/task/15358/net’: Invalid argument\n",
            "find: ‘/proc/15358/net’: Invalid argument\n",
            "/content/libllvmlite.so\n"
          ],
          "name": "stdout"
        }
      ]
    },
    {
      "cell_type": "code",
      "metadata": {
        "id": "MDQHc3kWW1Td"
      },
      "source": [
        "!cp /usr/local/lib/python3.6/dist-packages/llvmlite/binding/libllvmlite.so ."
      ],
      "execution_count": 5,
      "outputs": []
    },
    {
      "cell_type": "code",
      "metadata": {
        "id": "S8iUTuR3XQC8",
        "colab": {
          "base_uri": "https://localhost:8080/"
        },
        "outputId": "a80ddc03-6442-49dd-bc4e-883c6bb830b2"
      },
      "source": [
        "!conda install -y -c conda-forge numba==0.49.1"
      ],
      "execution_count": 6,
      "outputs": [
        {
          "output_type": "stream",
          "text": [
            "Collecting package metadata (current_repodata.json): - \b\b\\ \b\b| \b\b/ \b\b- \b\b\\ \b\b| \b\b/ \b\b- \b\b\\ \b\b| \b\b/ \b\b- \b\b\\ \b\b| \b\b/ \b\b- \b\b\\ \b\b| \b\b/ \b\b- \b\b\\ \b\b| \b\b/ \b\b- \b\b\\ \b\b| \b\b/ \b\b- \b\b\\ \b\b| \b\b/ \b\b- \b\b\\ \b\b| \b\b/ \b\b- \b\b\\ \b\b| \b\b/ \b\b- \b\b\\ \b\b| \b\b/ \b\b- \b\b\\ \b\b| \b\b/ \b\b- \b\b\\ \b\b| \b\b/ \b\b- \b\b\\ \b\b| \b\b/ \b\bdone\n",
            "Solving environment: \\ \b\b| \b\b/ \b\b- \b\b\\ \b\b| \b\b/ \b\b- \b\b\\ \b\b| \b\b/ \b\b- \b\b\\ \b\b| \b\b/ \b\b- \b\b\\ \b\b| \b\b/ \b\b- \b\b\\ \b\b| \b\b/ \b\b- \b\b\\ \b\b| \b\b/ \b\b- \b\b\\ \b\b| \b\b/ \b\b- \b\b\\ \b\b| \b\b/ \b\b- \b\b\\ \b\bdone\n",
            "\n",
            "# All requested packages already installed.\n",
            "\n"
          ],
          "name": "stdout"
        }
      ]
    },
    {
      "cell_type": "code",
      "metadata": {
        "id": "HoVhjH_EX6cX",
        "colab": {
          "base_uri": "https://localhost:8080/"
        },
        "outputId": "d857441d-d89c-435b-9b30-b8b649900c1f"
      },
      "source": [
        "!conda install -y -c conda-forge cudf"
      ],
      "execution_count": 7,
      "outputs": [
        {
          "output_type": "stream",
          "text": [
            "Collecting package metadata (current_repodata.json): - \b\b\\ \b\b| \b\b/ \b\b- \b\b\\ \b\b| \b\b/ \b\b- \b\b\\ \b\b| \b\b/ \b\b- \b\b\\ \b\b| \b\b/ \b\b- \b\b\\ \b\b| \b\b/ \b\b- \b\bdone\n",
            "Solving environment: | \b\b/ \b\b- \b\b\\ \b\b| \b\b/ \b\b- \b\b\\ \b\b| \b\b/ \b\b- \b\b\\ \b\b| \b\b/ \b\b- \b\b\\ \b\b| \b\b/ \b\b- \b\b\\ \b\b| \b\b/ \b\b- \b\b\\ \b\b| \b\b/ \b\b- \b\b\\ \b\b| \b\b/ \b\b- \b\b\\ \b\b| \b\b/ \b\b- \b\b\\ \b\b| \b\b/ \b\bdone\n",
            "\n",
            "# All requested packages already installed.\n",
            "\n"
          ],
          "name": "stdout"
        }
      ]
    },
    {
      "cell_type": "code",
      "metadata": {
        "id": "EwaJSKuswsNi",
        "colab": {
          "base_uri": "https://localhost:8080/"
        },
        "outputId": "2774df77-c85d-4021-892b-f02a0a04b9e0"
      },
      "source": [
        "import cudf\n",
        "import io, requests\n",
        "\n",
        "# download CSV file from GitHub\n",
        "url=\"https://github.com/plotly/datasets/raw/master/tips.csv\"\n",
        "content = requests.get(url).content.decode('utf-8')\n",
        "\n",
        "# read CSV from memory\n",
        "tips_df = cudf.read_csv(io.StringIO(content))\n",
        "tips_df['tip_percentage'] = tips_df['tip']/tips_df['total_bill']*100\n",
        "\n",
        "# display average tip by dining party size\n",
        "print(tips_df.groupby('size').tip_percentage.mean())"
      ],
      "execution_count": 8,
      "outputs": [
        {
          "output_type": "stream",
          "text": [
            "size\n",
            "1    21.729202\n",
            "2    16.571919\n",
            "3    15.215685\n",
            "4    14.594901\n",
            "5    14.149549\n",
            "6    15.622920\n",
            "Name: tip_percentage, dtype: float64\n"
          ],
          "name": "stdout"
        }
      ]
    },
    {
      "cell_type": "markdown",
      "metadata": {
        "id": "Ul3UZJdUJqlT"
      },
      "source": [
        "#[cuML](https://github.com/rapidsai/cuml)#\n",
        "\n",
        "This snippet loads a \n",
        "\n",
        "As above, all calculations are performed on the GPU."
      ]
    },
    {
      "cell_type": "code",
      "metadata": {
        "id": "dCE8WhO3HpL_",
        "colab": {
          "base_uri": "https://localhost:8080/"
        },
        "outputId": "38423663-7d59-40e6-9a3c-d0e2dae0955d"
      },
      "source": [
        "import cuml\n",
        "\n",
        "# Create and populate a GPU DataFrame\n",
        "df_float = cudf.DataFrame()\n",
        "df_float['0'] = [1.0, 2.0, 5.0]\n",
        "df_float['1'] = [4.0, 2.0, 1.0]\n",
        "df_float['2'] = [4.0, 2.0, 1.0]\n",
        "\n",
        "# Setup and fit clusters\n",
        "dbscan_float = cuml.DBSCAN(eps=1.0, min_samples=1)\n",
        "dbscan_float.fit(df_float)\n",
        "\n",
        "print(dbscan_float.labels_)"
      ],
      "execution_count": 9,
      "outputs": [
        {
          "output_type": "stream",
          "text": [
            "0    0\n",
            "1    1\n",
            "2    2\n",
            "dtype: int32\n"
          ],
          "name": "stdout"
        }
      ]
    },
    {
      "cell_type": "markdown",
      "metadata": {
        "id": "Dlsyk9m9NN2K"
      },
      "source": [
        "# Next Steps #\n",
        "\n",
        "For an overview of how you can access and work with your own datasets in Colab, check out [this guide](https://towardsdatascience.com/3-ways-to-load-csv-files-into-colab-7c14fcbdcb92).\n",
        "\n",
        "For more RAPIDS examples, check out our RAPIDS notebooks repos:\n",
        "1. https://github.com/rapidsai/notebooks\n",
        "2. https://github.com/rapidsai/notebooks-contrib"
      ]
    },
    {
      "cell_type": "code",
      "metadata": {
        "id": "2yQtVnI0UnTW"
      },
      "source": [
        ""
      ],
      "execution_count": null,
      "outputs": []
    },
    {
      "cell_type": "markdown",
      "metadata": {
        "id": "Aw6I8WmMLhWb"
      },
      "source": [
        "# Google Colab 을 위한 코드\r\n",
        "## Colab 에서 실행을 위한 코드\r\n",
        "- 아래의 코드는 google colaboratory 에서 실행을 위한 코드로 로컬 아나콘다에서는 주석처리합니다.\r\n",
        "- google colaboratory 에서는 주석을 풀고 폰트 설정과 csv 파일을 불러옵니다"
      ]
    },
    {
      "cell_type": "code",
      "metadata": {
        "id": "h_wA6hk5L-mJ"
      },
      "source": [
        "# pandas, numpy, seaborn을 불러옵니다.\r\n",
        "import pandas as pd\r\n",
        "import seaborn as sns\r\n",
        "import numpy as np\r\n",
        "import matplotlib.pyplot as plt\r\n"
      ],
      "execution_count": 32,
      "outputs": []
    },
    {
      "cell_type": "code",
      "metadata": {
        "id": "qCTcMOYdLwnU",
        "outputId": "f0bb74f3-9272-48f5-a5f4-0a3f246a8e86",
        "colab": {
          "base_uri": "https://localhost:8080/"
        }
      },
      "source": [
        "# 나눔고딕 설치\r\n",
        "!apt -qq -y install fonts-nanum > /dev/null\r\n",
        "\r\n",
        "!ls -al /usr/share/fonts/truetype/nanum\r\n",
        "\r\n",
        "fontpath = '/usr/share/fonts/truetype/nanum/NanumBarunGothic.ttf'\r\n",
        "\r\n",
        "import matplotlib.font_manager as fm\r\n",
        "\r\n",
        "font = fm.FontProperties(fname=fontpath, size=9)\r\n",
        "fm._rebuild()\r\n",
        "\r\n",
        "# 그래프에 retina display 적용\r\n",
        "%config InlineBackend.figure_format = 'retina'\r\n",
        "\r\n",
        "# Colab 의 한글 폰트 설정\r\n",
        "plt.rc('font', family='NanumBarunGothic') "
      ],
      "execution_count": 11,
      "outputs": [
        {
          "output_type": "stream",
          "text": [
            "\n",
            "WARNING: apt does not have a stable CLI interface. Use with caution in scripts.\n",
            "\n",
            "total 28852\n",
            "drwxr-xr-x 2 root root    4096 Dec 17 19:31 .\n",
            "drwxr-xr-x 1 root root    4096 Dec 17 19:31 ..\n",
            "-rw-r--r-- 1 root root 4413912 Dec  3  2017 NanumBarunGothicBold.ttf\n",
            "-rw-r--r-- 1 root root 4184028 Dec  3  2017 NanumBarunGothic.ttf\n",
            "-rw-r--r-- 1 root root 4642244 Dec  3  2017 NanumGothicBold.ttf\n",
            "-rw-r--r-- 1 root root 4691820 Dec  3  2017 NanumGothic.ttf\n",
            "-rw-r--r-- 1 root root 4183592 Dec  3  2017 NanumMyeongjoBold.ttf\n",
            "-rw-r--r-- 1 root root 3839464 Dec  3  2017 NanumMyeongjo.ttf\n",
            "-rw-r--r-- 1 root root  733500 Dec  3  2017 NanumSquareB.ttf\n",
            "-rw-r--r-- 1 root root 1030948 Dec  3  2017 NanumSquareRoundB.ttf\n",
            "-rw-r--r-- 1 root root 1063276 Dec  3  2017 NanumSquareRoundR.ttf\n",
            "-rw-r--r-- 1 root root  723640 Dec  3  2017 NanumSquareR.ttf\n",
            "-rw-r--r-- 1 root root      36 Dec 17 19:31 .uuid\n"
          ],
          "name": "stdout"
        }
      ]
    },
    {
      "cell_type": "code",
      "metadata": {
        "id": "4ik980ofNiNu"
      },
      "source": [
        "# 폰트가 선명하게 보이도록 retina 설정\r\n",
        "from IPython.display import set_matplotlib_formats\r\n",
        "\r\n",
        "set_matplotlib_formats(\"retina\")"
      ],
      "execution_count": 12,
      "outputs": []
    },
    {
      "cell_type": "code",
      "metadata": {
        "id": "fiypmbZHNkrE",
        "outputId": "be12a1b5-bd2c-434f-ba1e-e92250bf6b08",
        "colab": {
          "base_uri": "https://localhost:8080/",
          "height": 374
        }
      },
      "source": [
        "# 한글폰트와 마이너스 폰트 설정 확인\r\n",
        "plt.title('한글')\r\n",
        "plt.plot([-4,-6,1,2,0,3])"
      ],
      "execution_count": 13,
      "outputs": [
        {
          "output_type": "execute_result",
          "data": {
            "text/plain": [
              "[<matplotlib.lines.Line2D at 0x7f6c62d29400>]"
            ]
          },
          "metadata": {
            "tags": []
          },
          "execution_count": 13
        },
        {
          "output_type": "stream",
          "text": [
            "/usr/local/lib/python3.6/dist-packages/matplotlib/backends/backend_agg.py:214: RuntimeWarning: Glyph 8722 missing from current font.\n",
            "  font.set_text(s, 0.0, flags=flags)\n",
            "/usr/local/lib/python3.6/dist-packages/matplotlib/backends/backend_agg.py:183: RuntimeWarning: Glyph 8722 missing from current font.\n",
            "  font.set_text(s, 0, flags=flags)\n"
          ],
          "name": "stderr"
        },
        {
          "output_type": "display_data",
          "data": {
            "image/png": "[encoded data removed]",
            "text/plain": [
              "<Figure size 432x288 with 1 Axes>"
            ]
          },
          "metadata": {
            "tags": [],
            "image/png": {
              "width": 364,
              "height": 265
            },
            "needs_background": "light"
          }
        }
      ]
    },
    {
      "cell_type": "markdown",
      "metadata": {
        "id": "na8ReTRcMEPs"
      },
      "source": [
        "# Colab 용 GoogleAuth 인증\r\n",
        "*   구글 드라이브에 있는 파일을 가져오기 위해 사용합니다."
      ]
    },
    {
      "cell_type": "code",
      "metadata": {
        "id": "7cfECzPoMN_S"
      },
      "source": [
        "# 구글 드라이브에서 csv 파일을 읽어오기 위해 gauth 인증\r\n",
        "!pip install -U -q PyDrive\r\n",
        "from pydrive.auth import GoogleAuth\r\n",
        "from pydrive.drive import GoogleDrive\r\n",
        "from google.colab import auth\r\n",
        "from oauth2client.client import GoogleCredentials\r\n",
        "\r\n",
        "# PyDrive client 인증\r\n",
        "auth.authenticate_user()\r\n",
        "gauth = GoogleAuth()\r\n",
        "gauth.credentials = GoogleCredentials.get_application_default()\r\n",
        "drive = GoogleDrive(gauth)"
      ],
      "execution_count": 14,
      "outputs": []
    },
    {
      "cell_type": "code",
      "metadata": {
        "id": "0PJqToowMfTh",
        "outputId": "a90e4d72-0be5-4133-f785-4f4eedb84215",
        "colab": {
          "base_uri": "https://localhost:8080/"
        }
      },
      "source": [
        "# 공유 가능한 링크로 파일 가져오기\r\n",
        "url = 'https://drive.google.com/open?id=1e91PH_KRFxNXUsx8Hi-Q2vPiorCDsOP4'\r\n",
        "id = url.split('=')[1]\r\n",
        "print(id)\r\n",
        "downloaded = drive.CreateFile({'id':id}) \r\n",
        "# data 폴더에 파일을 관리하며, 폴더가 없다면 만들어서 파일을 관리하도록 한다.\r\n",
        "%mkdir data\r\n",
        "downloaded.GetContentFile('data/상가업소정보_201912_01.csv') "
      ],
      "execution_count": 15,
      "outputs": [
        {
          "output_type": "stream",
          "text": [
            "1e91PH_KRFxNXUsx8Hi-Q2vPiorCDsOP4\n",
            "mkdir: cannot create directory ‘data’: File exists\n"
          ],
          "name": "stdout"
        }
      ]
    },
    {
      "cell_type": "markdown",
      "metadata": {
        "id": "JKtsYgSPMl9d"
      },
      "source": [
        "## 데이터 불러오기\r\n",
        "* 공공데이터 포털 : https://www.data.go.kr/dataset/15012005/fileData.do\r\n",
        "* 영상에 사용한 데이터셋 : http://bit.ly/open-data-set-folder (공공데이터포털에서 다운로드 받은 파일이 있습니다. 어떤 파일을 다운로드 받아야 될지 모르겠다면 여기에 있는 파일을 사용해 주세요.)"
      ]
    },
    {
      "cell_type": "code",
      "metadata": {
        "id": "c6EGM_N8MyBX",
        "outputId": "3fd1a40a-e61a-490a-d4bb-d3c6e6f27020",
        "colab": {
          "base_uri": "https://localhost:8080/"
        }
      },
      "source": [
        "# 파일을 불러와 df 라는 변수에 담습니다.\r\n",
        "# shape 를 통해 불러온 csv 파일의 크기를 확인합니다.\r\n",
        "df = cudf.read_csv('data/상가업소정보_201912_01.csv', sep=\"|\")\r\n",
        "df.shape"
      ],
      "execution_count": 36,
      "outputs": [
        {
          "output_type": "execute_result",
          "data": {
            "text/plain": [
              "(573680, 39)"
            ]
          },
          "metadata": {
            "tags": []
          },
          "execution_count": 36
        }
      ]
    },
    {
      "cell_type": "markdown",
      "metadata": {
        "id": "gJuuA9j1M6T8"
      },
      "source": [
        "### 데이터 미리보기"
      ]
    },
    {
      "cell_type": "code",
      "metadata": {
        "id": "e_BWK1btM0yD",
        "outputId": "2e340fa3-f573-4e94-a8a3-5b5e6363714b",
        "colab": {
          "base_uri": "https://localhost:8080/",
          "height": 1000
        }
      },
      "source": [
        "df.head()"
      ],
      "execution_count": 35,
      "outputs": [
        {
          "output_type": "execute_result",
          "data": {
            "text/html": [
              "<div>\n",
              "<style scoped>\n",
              "    .dataframe tbody tr th:only-of-type {\n",
              "        vertical-align: middle;\n",
              "    }\n",
              "\n",
              "    .dataframe tbody tr th {\n",
              "        vertical-align: top;\n",
              "    }\n",
              "\n",
              "    .dataframe thead th {\n",
              "        text-align: right;\n",
              "    }\n",
              "</style>\n",
              "<table border=\"1\" class=\"dataframe\">\n",
              "  <thead>\n",
              "    <tr style=\"text-align: right;\">\n",
              "      <th></th>\n",
              "      <th>상가업소번호</th>\n",
              "      <th>상호명</th>\n",
              "      <th>지점명</th>\n",
              "      <th>상권업종대분류코드</th>\n",
              "      <th>상권업종대분류명</th>\n",
              "      <th>상권업종중분류코드</th>\n",
              "      <th>상권업종중분류명</th>\n",
              "      <th>상권업종소분류코드</th>\n",
              "      <th>상권업종소분류명</th>\n",
              "      <th>표준산업분류코드</th>\n",
              "      <th>표준산업분류명</th>\n",
              "      <th>시도코드</th>\n",
              "      <th>시도명</th>\n",
              "      <th>시군구코드</th>\n",
              "      <th>시군구명</th>\n",
              "      <th>행정동코드</th>\n",
              "      <th>행정동명</th>\n",
              "      <th>법정동코드</th>\n",
              "      <th>법정동명</th>\n",
              "      <th>지번코드</th>\n",
              "      <th>대지구분코드</th>\n",
              "      <th>대지구분명</th>\n",
              "      <th>지번본번지</th>\n",
              "      <th>지번부번지</th>\n",
              "      <th>지번주소</th>\n",
              "      <th>도로명코드</th>\n",
              "      <th>도로명</th>\n",
              "      <th>건물본번지</th>\n",
              "      <th>건물부번지</th>\n",
              "      <th>건물관리번호</th>\n",
              "      <th>건물명</th>\n",
              "      <th>도로명주소</th>\n",
              "      <th>구우편번호</th>\n",
              "      <th>신우편번호</th>\n",
              "      <th>동정보</th>\n",
              "      <th>층정보</th>\n",
              "      <th>호정보</th>\n",
              "      <th>경도</th>\n",
              "      <th>위도</th>\n",
              "    </tr>\n",
              "  </thead>\n",
              "  <tbody>\n",
              "    <tr>\n",
              "      <th>0</th>\n",
              "      <td>19905471</td>\n",
              "      <td>와라와라호프</td>\n",
              "      <td>None</td>\n",
              "      <td>Q</td>\n",
              "      <td>음식</td>\n",
              "      <td>Q09</td>\n",
              "      <td>유흥주점</td>\n",
              "      <td>Q09A01</td>\n",
              "      <td>호프/맥주</td>\n",
              "      <td>I56219</td>\n",
              "      <td>기타 주점업</td>\n",
              "      <td>11</td>\n",
              "      <td>서울특별시</td>\n",
              "      <td>11680</td>\n",
              "      <td>강남구</td>\n",
              "      <td>1168060000</td>\n",
              "      <td>대치1동</td>\n",
              "      <td>1168010600</td>\n",
              "      <td>대치동</td>\n",
              "      <td>1168010600206040000</td>\n",
              "      <td>1</td>\n",
              "      <td>대지</td>\n",
              "      <td>604</td>\n",
              "      <td>null</td>\n",
              "      <td>서울특별시 강남구 대치동 604</td>\n",
              "      <td>116802000003</td>\n",
              "      <td>서울특별시 강남구 남부순환로</td>\n",
              "      <td>2933</td>\n",
              "      <td>null</td>\n",
              "      <td>1168010600106040000014378</td>\n",
              "      <td>대치상가</td>\n",
              "      <td>서울특별시 강남구 남부순환로 2933</td>\n",
              "      <td>135280</td>\n",
              "      <td>6280.0</td>\n",
              "      <td>None</td>\n",
              "      <td>1</td>\n",
              "      <td>None</td>\n",
              "      <td>127.061026</td>\n",
              "      <td>37.493922</td>\n",
              "    </tr>\n",
              "    <tr>\n",
              "      <th>1</th>\n",
              "      <td>19911397</td>\n",
              "      <td>커피빈코리아선릉로93길점</td>\n",
              "      <td>코리아선릉로93길점</td>\n",
              "      <td>Q</td>\n",
              "      <td>음식</td>\n",
              "      <td>Q12</td>\n",
              "      <td>커피점/카페</td>\n",
              "      <td>Q12A01</td>\n",
              "      <td>커피전문점/카페/다방</td>\n",
              "      <td>I56220</td>\n",
              "      <td>비알콜 음료점업</td>\n",
              "      <td>11</td>\n",
              "      <td>서울특별시</td>\n",
              "      <td>11680</td>\n",
              "      <td>강남구</td>\n",
              "      <td>1168064000</td>\n",
              "      <td>역삼1동</td>\n",
              "      <td>1168010100</td>\n",
              "      <td>역삼동</td>\n",
              "      <td>1168010100206960042</td>\n",
              "      <td>1</td>\n",
              "      <td>대지</td>\n",
              "      <td>696</td>\n",
              "      <td>42.0</td>\n",
              "      <td>서울특별시 강남구 역삼동 696-42</td>\n",
              "      <td>116804166502</td>\n",
              "      <td>서울특별시 강남구 선릉로93길</td>\n",
              "      <td>6</td>\n",
              "      <td>null</td>\n",
              "      <td>1168010100106960042022041</td>\n",
              "      <td>None</td>\n",
              "      <td>서울특별시 강남구 선릉로93길 6</td>\n",
              "      <td>135080</td>\n",
              "      <td>6149.0</td>\n",
              "      <td>None</td>\n",
              "      <td>1</td>\n",
              "      <td>None</td>\n",
              "      <td>127.047883</td>\n",
              "      <td>37.505675</td>\n",
              "    </tr>\n",
              "    <tr>\n",
              "      <th>2</th>\n",
              "      <td>19911801</td>\n",
              "      <td>프로포즈</td>\n",
              "      <td>None</td>\n",
              "      <td>Q</td>\n",
              "      <td>음식</td>\n",
              "      <td>Q09</td>\n",
              "      <td>유흥주점</td>\n",
              "      <td>Q09A01</td>\n",
              "      <td>호프/맥주</td>\n",
              "      <td>I56219</td>\n",
              "      <td>기타 주점업</td>\n",
              "      <td>11</td>\n",
              "      <td>서울특별시</td>\n",
              "      <td>11545</td>\n",
              "      <td>금천구</td>\n",
              "      <td>1154563000</td>\n",
              "      <td>독산3동</td>\n",
              "      <td>1154510200</td>\n",
              "      <td>독산동</td>\n",
              "      <td>1154510200201620001</td>\n",
              "      <td>1</td>\n",
              "      <td>대지</td>\n",
              "      <td>162</td>\n",
              "      <td>1.0</td>\n",
              "      <td>서울특별시 금천구 독산동 162-1</td>\n",
              "      <td>115453117003</td>\n",
              "      <td>서울특별시 금천구 가산로</td>\n",
              "      <td>34</td>\n",
              "      <td>6.0</td>\n",
              "      <td>1154510200101620001017748</td>\n",
              "      <td>None</td>\n",
              "      <td>서울특별시 금천구 가산로 34-6</td>\n",
              "      <td>153010</td>\n",
              "      <td>8545.0</td>\n",
              "      <td>None</td>\n",
              "      <td>1</td>\n",
              "      <td>None</td>\n",
              "      <td>126.899220</td>\n",
              "      <td>37.471711</td>\n",
              "    </tr>\n",
              "    <tr>\n",
              "      <th>3</th>\n",
              "      <td>19912201</td>\n",
              "      <td>싱싱커피&amp;토스트</td>\n",
              "      <td>None</td>\n",
              "      <td>Q</td>\n",
              "      <td>음식</td>\n",
              "      <td>Q07</td>\n",
              "      <td>패스트푸드</td>\n",
              "      <td>Q07A10</td>\n",
              "      <td>토스트전문</td>\n",
              "      <td>I56192</td>\n",
              "      <td>피자, 햄버거, 샌드위치 및 유사 음식점업</td>\n",
              "      <td>26</td>\n",
              "      <td>부산광역시</td>\n",
              "      <td>26530</td>\n",
              "      <td>사상구</td>\n",
              "      <td>2653062000</td>\n",
              "      <td>괘법동</td>\n",
              "      <td>2653010400</td>\n",
              "      <td>괘법동</td>\n",
              "      <td>2653010400205780000</td>\n",
              "      <td>1</td>\n",
              "      <td>대지</td>\n",
              "      <td>578</td>\n",
              "      <td>null</td>\n",
              "      <td>부산광역시 사상구 괘법동 578</td>\n",
              "      <td>265303139004</td>\n",
              "      <td>부산광역시 사상구 괘감로</td>\n",
              "      <td>37</td>\n",
              "      <td>null</td>\n",
              "      <td>2653010400105780000002037</td>\n",
              "      <td>산업용품유통상가</td>\n",
              "      <td>부산광역시 사상구 괘감로 37</td>\n",
              "      <td>617726</td>\n",
              "      <td>46977.0</td>\n",
              "      <td>None</td>\n",
              "      <td>1</td>\n",
              "      <td>26</td>\n",
              "      <td>128.980455</td>\n",
              "      <td>35.159774</td>\n",
              "    </tr>\n",
              "    <tr>\n",
              "      <th>4</th>\n",
              "      <td>19932756</td>\n",
              "      <td>가락사우나내스낵</td>\n",
              "      <td>None</td>\n",
              "      <td>F</td>\n",
              "      <td>생활서비스</td>\n",
              "      <td>F09</td>\n",
              "      <td>대중목욕탕/휴게</td>\n",
              "      <td>F09A02</td>\n",
              "      <td>사우나/증기탕/온천</td>\n",
              "      <td>S96121</td>\n",
              "      <td>욕탕업</td>\n",
              "      <td>11</td>\n",
              "      <td>서울특별시</td>\n",
              "      <td>11710</td>\n",
              "      <td>송파구</td>\n",
              "      <td>1171060000</td>\n",
              "      <td>석촌동</td>\n",
              "      <td>1171010500</td>\n",
              "      <td>석촌동</td>\n",
              "      <td>1171010500202560000</td>\n",
              "      <td>1</td>\n",
              "      <td>대지</td>\n",
              "      <td>256</td>\n",
              "      <td>null</td>\n",
              "      <td>서울특별시 송파구 석촌동 256</td>\n",
              "      <td>117103123001</td>\n",
              "      <td>서울특별시 송파구 가락로</td>\n",
              "      <td>71</td>\n",
              "      <td>null</td>\n",
              "      <td>1171010500102560005010490</td>\n",
              "      <td>None</td>\n",
              "      <td>서울특별시 송파구 가락로 71</td>\n",
              "      <td>138846</td>\n",
              "      <td>5690.0</td>\n",
              "      <td>None</td>\n",
              "      <td>1</td>\n",
              "      <td>None</td>\n",
              "      <td>127.104071</td>\n",
              "      <td>37.500249</td>\n",
              "    </tr>\n",
              "  </tbody>\n",
              "</table>\n",
              "</div>"
            ],
            "text/plain": [
              "     상가업소번호            상호명         지점명  ...   호정보          경도         위도\n",
              "0  19905471         와라와라호프        None  ...  None  127.061026  37.493922\n",
              "1  19911397  커피빈코리아선릉로93길점  코리아선릉로93길점  ...  None  127.047883  37.505675\n",
              "2  19911801           프로포즈        None  ...  None  126.899220  37.471711\n",
              "3  19912201       싱싱커피&토스트        None  ...    26  128.980455  35.159774\n",
              "4  19932756       가락사우나내스낵        None  ...  None  127.104071  37.500249\n",
              "\n",
              "[5 rows x 39 columns]"
            ]
          },
          "metadata": {
            "tags": []
          },
          "execution_count": 35
        }
      ]
    },
    {
      "cell_type": "markdown",
      "metadata": {
        "id": "qYWeVhBeNFGL"
      },
      "source": [
        " ### info 보기"
      ]
    },
    {
      "cell_type": "code",
      "metadata": {
        "id": "YP14-8w3NDHd",
        "outputId": "2c45b339-5855-4373-b5c4-f3bec8b72dfc",
        "colab": {
          "base_uri": "https://localhost:8080/",
          "height": 507
        }
      },
      "source": [
        "# info 를 사용하면 데이터의 전체적인 정보를 볼 수 있습니다.\r\n",
        "# 데이터의 사이즈, 타입, 메모리 사용량 등을 볼 수 있습니다.\r\n"
      ],
      "execution_count": 40,
      "outputs": [
        {
          "output_type": "execute_result",
          "data": {
            "text/html": [
              "<div>\n",
              "<style scoped>\n",
              "    .dataframe tbody tr th:only-of-type {\n",
              "        vertical-align: middle;\n",
              "    }\n",
              "\n",
              "    .dataframe tbody tr th {\n",
              "        vertical-align: top;\n",
              "    }\n",
              "\n",
              "    .dataframe thead th {\n",
              "        text-align: right;\n",
              "    }\n",
              "</style>\n",
              "<table border=\"1\" class=\"dataframe\">\n",
              "  <thead>\n",
              "    <tr style=\"text-align: right;\">\n",
              "      <th></th>\n",
              "      <th>상가업소번호</th>\n",
              "      <th>상호명</th>\n",
              "      <th>지점명</th>\n",
              "      <th>상권업종대분류코드</th>\n",
              "      <th>상권업종대분류명</th>\n",
              "      <th>상권업종중분류코드</th>\n",
              "      <th>상권업종중분류명</th>\n",
              "      <th>상권업종소분류코드</th>\n",
              "      <th>상권업종소분류명</th>\n",
              "      <th>표준산업분류코드</th>\n",
              "      <th>표준산업분류명</th>\n",
              "      <th>시도코드</th>\n",
              "      <th>시도명</th>\n",
              "      <th>시군구코드</th>\n",
              "      <th>시군구명</th>\n",
              "      <th>행정동코드</th>\n",
              "      <th>행정동명</th>\n",
              "      <th>법정동코드</th>\n",
              "      <th>법정동명</th>\n",
              "      <th>지번코드</th>\n",
              "      <th>대지구분코드</th>\n",
              "      <th>대지구분명</th>\n",
              "      <th>지번본번지</th>\n",
              "      <th>지번부번지</th>\n",
              "      <th>지번주소</th>\n",
              "      <th>도로명코드</th>\n",
              "      <th>도로명</th>\n",
              "      <th>건물본번지</th>\n",
              "      <th>건물부번지</th>\n",
              "      <th>건물관리번호</th>\n",
              "      <th>건물명</th>\n",
              "      <th>도로명주소</th>\n",
              "      <th>구우편번호</th>\n",
              "      <th>신우편번호</th>\n",
              "      <th>동정보</th>\n",
              "      <th>층정보</th>\n",
              "      <th>호정보</th>\n",
              "      <th>경도</th>\n",
              "      <th>위도</th>\n",
              "    </tr>\n",
              "  </thead>\n",
              "  <tbody>\n",
              "    <tr>\n",
              "      <th>0</th>\n",
              "      <td>False</td>\n",
              "      <td>False</td>\n",
              "      <td>True</td>\n",
              "      <td>False</td>\n",
              "      <td>False</td>\n",
              "      <td>False</td>\n",
              "      <td>False</td>\n",
              "      <td>False</td>\n",
              "      <td>False</td>\n",
              "      <td>False</td>\n",
              "      <td>False</td>\n",
              "      <td>False</td>\n",
              "      <td>False</td>\n",
              "      <td>False</td>\n",
              "      <td>False</td>\n",
              "      <td>False</td>\n",
              "      <td>False</td>\n",
              "      <td>False</td>\n",
              "      <td>False</td>\n",
              "      <td>False</td>\n",
              "      <td>False</td>\n",
              "      <td>False</td>\n",
              "      <td>False</td>\n",
              "      <td>True</td>\n",
              "      <td>False</td>\n",
              "      <td>False</td>\n",
              "      <td>False</td>\n",
              "      <td>False</td>\n",
              "      <td>True</td>\n",
              "      <td>False</td>\n",
              "      <td>False</td>\n",
              "      <td>False</td>\n",
              "      <td>False</td>\n",
              "      <td>False</td>\n",
              "      <td>True</td>\n",
              "      <td>False</td>\n",
              "      <td>True</td>\n",
              "      <td>False</td>\n",
              "      <td>False</td>\n",
              "    </tr>\n",
              "    <tr>\n",
              "      <th>1</th>\n",
              "      <td>False</td>\n",
              "      <td>False</td>\n",
              "      <td>False</td>\n",
              "      <td>False</td>\n",
              "      <td>False</td>\n",
              "      <td>False</td>\n",
              "      <td>False</td>\n",
              "      <td>False</td>\n",
              "      <td>False</td>\n",
              "      <td>False</td>\n",
              "      <td>False</td>\n",
              "      <td>False</td>\n",
              "      <td>False</td>\n",
              "      <td>False</td>\n",
              "      <td>False</td>\n",
              "      <td>False</td>\n",
              "      <td>False</td>\n",
              "      <td>False</td>\n",
              "      <td>False</td>\n",
              "      <td>False</td>\n",
              "      <td>False</td>\n",
              "      <td>False</td>\n",
              "      <td>False</td>\n",
              "      <td>False</td>\n",
              "      <td>False</td>\n",
              "      <td>False</td>\n",
              "      <td>False</td>\n",
              "      <td>False</td>\n",
              "      <td>True</td>\n",
              "      <td>False</td>\n",
              "      <td>True</td>\n",
              "      <td>False</td>\n",
              "      <td>False</td>\n",
              "      <td>False</td>\n",
              "      <td>True</td>\n",
              "      <td>False</td>\n",
              "      <td>True</td>\n",
              "      <td>False</td>\n",
              "      <td>False</td>\n",
              "    </tr>\n",
              "    <tr>\n",
              "      <th>2</th>\n",
              "      <td>False</td>\n",
              "      <td>False</td>\n",
              "      <td>True</td>\n",
              "      <td>False</td>\n",
              "      <td>False</td>\n",
              "      <td>False</td>\n",
              "      <td>False</td>\n",
              "      <td>False</td>\n",
              "      <td>False</td>\n",
              "      <td>False</td>\n",
              "      <td>False</td>\n",
              "      <td>False</td>\n",
              "      <td>False</td>\n",
              "      <td>False</td>\n",
              "      <td>False</td>\n",
              "      <td>False</td>\n",
              "      <td>False</td>\n",
              "      <td>False</td>\n",
              "      <td>False</td>\n",
              "      <td>False</td>\n",
              "      <td>False</td>\n",
              "      <td>False</td>\n",
              "      <td>False</td>\n",
              "      <td>False</td>\n",
              "      <td>False</td>\n",
              "      <td>False</td>\n",
              "      <td>False</td>\n",
              "      <td>False</td>\n",
              "      <td>False</td>\n",
              "      <td>False</td>\n",
              "      <td>True</td>\n",
              "      <td>False</td>\n",
              "      <td>False</td>\n",
              "      <td>False</td>\n",
              "      <td>True</td>\n",
              "      <td>False</td>\n",
              "      <td>True</td>\n",
              "      <td>False</td>\n",
              "      <td>False</td>\n",
              "    </tr>\n",
              "    <tr>\n",
              "      <th>3</th>\n",
              "      <td>False</td>\n",
              "      <td>False</td>\n",
              "      <td>True</td>\n",
              "      <td>False</td>\n",
              "      <td>False</td>\n",
              "      <td>False</td>\n",
              "      <td>False</td>\n",
              "      <td>False</td>\n",
              "      <td>False</td>\n",
              "      <td>False</td>\n",
              "      <td>False</td>\n",
              "      <td>False</td>\n",
              "      <td>False</td>\n",
              "      <td>False</td>\n",
              "      <td>False</td>\n",
              "      <td>False</td>\n",
              "      <td>False</td>\n",
              "      <td>False</td>\n",
              "      <td>False</td>\n",
              "      <td>False</td>\n",
              "      <td>False</td>\n",
              "      <td>False</td>\n",
              "      <td>False</td>\n",
              "      <td>True</td>\n",
              "      <td>False</td>\n",
              "      <td>False</td>\n",
              "      <td>False</td>\n",
              "      <td>False</td>\n",
              "      <td>True</td>\n",
              "      <td>False</td>\n",
              "      <td>False</td>\n",
              "      <td>False</td>\n",
              "      <td>False</td>\n",
              "      <td>False</td>\n",
              "      <td>True</td>\n",
              "      <td>False</td>\n",
              "      <td>False</td>\n",
              "      <td>False</td>\n",
              "      <td>False</td>\n",
              "    </tr>\n",
              "    <tr>\n",
              "      <th>4</th>\n",
              "      <td>False</td>\n",
              "      <td>False</td>\n",
              "      <td>True</td>\n",
              "      <td>False</td>\n",
              "      <td>False</td>\n",
              "      <td>False</td>\n",
              "      <td>False</td>\n",
              "      <td>False</td>\n",
              "      <td>False</td>\n",
              "      <td>False</td>\n",
              "      <td>False</td>\n",
              "      <td>False</td>\n",
              "      <td>False</td>\n",
              "      <td>False</td>\n",
              "      <td>False</td>\n",
              "      <td>False</td>\n",
              "      <td>False</td>\n",
              "      <td>False</td>\n",
              "      <td>False</td>\n",
              "      <td>False</td>\n",
              "      <td>False</td>\n",
              "      <td>False</td>\n",
              "      <td>False</td>\n",
              "      <td>True</td>\n",
              "      <td>False</td>\n",
              "      <td>False</td>\n",
              "      <td>False</td>\n",
              "      <td>False</td>\n",
              "      <td>True</td>\n",
              "      <td>False</td>\n",
              "      <td>True</td>\n",
              "      <td>False</td>\n",
              "      <td>False</td>\n",
              "      <td>False</td>\n",
              "      <td>True</td>\n",
              "      <td>False</td>\n",
              "      <td>True</td>\n",
              "      <td>False</td>\n",
              "      <td>False</td>\n",
              "    </tr>\n",
              "    <tr>\n",
              "      <th>...</th>\n",
              "      <td>...</td>\n",
              "      <td>...</td>\n",
              "      <td>...</td>\n",
              "      <td>...</td>\n",
              "      <td>...</td>\n",
              "      <td>...</td>\n",
              "      <td>...</td>\n",
              "      <td>...</td>\n",
              "      <td>...</td>\n",
              "      <td>...</td>\n",
              "      <td>...</td>\n",
              "      <td>...</td>\n",
              "      <td>...</td>\n",
              "      <td>...</td>\n",
              "      <td>...</td>\n",
              "      <td>...</td>\n",
              "      <td>...</td>\n",
              "      <td>...</td>\n",
              "      <td>...</td>\n",
              "      <td>...</td>\n",
              "      <td>...</td>\n",
              "      <td>...</td>\n",
              "      <td>...</td>\n",
              "      <td>...</td>\n",
              "      <td>...</td>\n",
              "      <td>...</td>\n",
              "      <td>...</td>\n",
              "      <td>...</td>\n",
              "      <td>...</td>\n",
              "      <td>...</td>\n",
              "      <td>...</td>\n",
              "      <td>...</td>\n",
              "      <td>...</td>\n",
              "      <td>...</td>\n",
              "      <td>...</td>\n",
              "      <td>...</td>\n",
              "      <td>...</td>\n",
              "      <td>...</td>\n",
              "      <td>...</td>\n",
              "    </tr>\n",
              "    <tr>\n",
              "      <th>573675</th>\n",
              "      <td>False</td>\n",
              "      <td>False</td>\n",
              "      <td>True</td>\n",
              "      <td>False</td>\n",
              "      <td>False</td>\n",
              "      <td>False</td>\n",
              "      <td>False</td>\n",
              "      <td>False</td>\n",
              "      <td>False</td>\n",
              "      <td>False</td>\n",
              "      <td>False</td>\n",
              "      <td>False</td>\n",
              "      <td>False</td>\n",
              "      <td>False</td>\n",
              "      <td>False</td>\n",
              "      <td>False</td>\n",
              "      <td>False</td>\n",
              "      <td>False</td>\n",
              "      <td>False</td>\n",
              "      <td>False</td>\n",
              "      <td>False</td>\n",
              "      <td>False</td>\n",
              "      <td>False</td>\n",
              "      <td>False</td>\n",
              "      <td>False</td>\n",
              "      <td>False</td>\n",
              "      <td>False</td>\n",
              "      <td>False</td>\n",
              "      <td>True</td>\n",
              "      <td>False</td>\n",
              "      <td>True</td>\n",
              "      <td>False</td>\n",
              "      <td>False</td>\n",
              "      <td>False</td>\n",
              "      <td>True</td>\n",
              "      <td>True</td>\n",
              "      <td>True</td>\n",
              "      <td>False</td>\n",
              "      <td>False</td>\n",
              "    </tr>\n",
              "    <tr>\n",
              "      <th>573676</th>\n",
              "      <td>False</td>\n",
              "      <td>False</td>\n",
              "      <td>True</td>\n",
              "      <td>False</td>\n",
              "      <td>False</td>\n",
              "      <td>False</td>\n",
              "      <td>False</td>\n",
              "      <td>False</td>\n",
              "      <td>False</td>\n",
              "      <td>False</td>\n",
              "      <td>False</td>\n",
              "      <td>False</td>\n",
              "      <td>False</td>\n",
              "      <td>False</td>\n",
              "      <td>False</td>\n",
              "      <td>False</td>\n",
              "      <td>False</td>\n",
              "      <td>False</td>\n",
              "      <td>False</td>\n",
              "      <td>False</td>\n",
              "      <td>False</td>\n",
              "      <td>False</td>\n",
              "      <td>False</td>\n",
              "      <td>False</td>\n",
              "      <td>False</td>\n",
              "      <td>False</td>\n",
              "      <td>False</td>\n",
              "      <td>False</td>\n",
              "      <td>True</td>\n",
              "      <td>False</td>\n",
              "      <td>False</td>\n",
              "      <td>False</td>\n",
              "      <td>False</td>\n",
              "      <td>False</td>\n",
              "      <td>True</td>\n",
              "      <td>False</td>\n",
              "      <td>True</td>\n",
              "      <td>False</td>\n",
              "      <td>False</td>\n",
              "    </tr>\n",
              "    <tr>\n",
              "      <th>573677</th>\n",
              "      <td>False</td>\n",
              "      <td>False</td>\n",
              "      <td>True</td>\n",
              "      <td>False</td>\n",
              "      <td>False</td>\n",
              "      <td>False</td>\n",
              "      <td>False</td>\n",
              "      <td>False</td>\n",
              "      <td>False</td>\n",
              "      <td>False</td>\n",
              "      <td>False</td>\n",
              "      <td>False</td>\n",
              "      <td>False</td>\n",
              "      <td>False</td>\n",
              "      <td>False</td>\n",
              "      <td>False</td>\n",
              "      <td>False</td>\n",
              "      <td>False</td>\n",
              "      <td>False</td>\n",
              "      <td>False</td>\n",
              "      <td>False</td>\n",
              "      <td>False</td>\n",
              "      <td>False</td>\n",
              "      <td>False</td>\n",
              "      <td>False</td>\n",
              "      <td>False</td>\n",
              "      <td>False</td>\n",
              "      <td>False</td>\n",
              "      <td>True</td>\n",
              "      <td>False</td>\n",
              "      <td>False</td>\n",
              "      <td>False</td>\n",
              "      <td>False</td>\n",
              "      <td>False</td>\n",
              "      <td>True</td>\n",
              "      <td>False</td>\n",
              "      <td>True</td>\n",
              "      <td>False</td>\n",
              "      <td>False</td>\n",
              "    </tr>\n",
              "    <tr>\n",
              "      <th>573678</th>\n",
              "      <td>False</td>\n",
              "      <td>False</td>\n",
              "      <td>True</td>\n",
              "      <td>False</td>\n",
              "      <td>False</td>\n",
              "      <td>False</td>\n",
              "      <td>False</td>\n",
              "      <td>False</td>\n",
              "      <td>False</td>\n",
              "      <td>False</td>\n",
              "      <td>False</td>\n",
              "      <td>False</td>\n",
              "      <td>False</td>\n",
              "      <td>False</td>\n",
              "      <td>False</td>\n",
              "      <td>False</td>\n",
              "      <td>False</td>\n",
              "      <td>False</td>\n",
              "      <td>False</td>\n",
              "      <td>False</td>\n",
              "      <td>False</td>\n",
              "      <td>False</td>\n",
              "      <td>False</td>\n",
              "      <td>True</td>\n",
              "      <td>False</td>\n",
              "      <td>False</td>\n",
              "      <td>False</td>\n",
              "      <td>False</td>\n",
              "      <td>True</td>\n",
              "      <td>False</td>\n",
              "      <td>False</td>\n",
              "      <td>False</td>\n",
              "      <td>False</td>\n",
              "      <td>False</td>\n",
              "      <td>True</td>\n",
              "      <td>False</td>\n",
              "      <td>True</td>\n",
              "      <td>False</td>\n",
              "      <td>False</td>\n",
              "    </tr>\n",
              "    <tr>\n",
              "      <th>573679</th>\n",
              "      <td>False</td>\n",
              "      <td>False</td>\n",
              "      <td>True</td>\n",
              "      <td>False</td>\n",
              "      <td>False</td>\n",
              "      <td>False</td>\n",
              "      <td>False</td>\n",
              "      <td>False</td>\n",
              "      <td>False</td>\n",
              "      <td>False</td>\n",
              "      <td>False</td>\n",
              "      <td>False</td>\n",
              "      <td>False</td>\n",
              "      <td>False</td>\n",
              "      <td>False</td>\n",
              "      <td>False</td>\n",
              "      <td>False</td>\n",
              "      <td>False</td>\n",
              "      <td>False</td>\n",
              "      <td>False</td>\n",
              "      <td>False</td>\n",
              "      <td>False</td>\n",
              "      <td>False</td>\n",
              "      <td>True</td>\n",
              "      <td>False</td>\n",
              "      <td>False</td>\n",
              "      <td>False</td>\n",
              "      <td>False</td>\n",
              "      <td>False</td>\n",
              "      <td>False</td>\n",
              "      <td>False</td>\n",
              "      <td>False</td>\n",
              "      <td>False</td>\n",
              "      <td>False</td>\n",
              "      <td>False</td>\n",
              "      <td>True</td>\n",
              "      <td>True</td>\n",
              "      <td>False</td>\n",
              "      <td>False</td>\n",
              "    </tr>\n",
              "  </tbody>\n",
              "</table>\n",
              "<p>573680 rows × 39 columns</p>\n",
              "</div>"
            ],
            "text/plain": [
              "        상가업소번호    상호명    지점명  상권업종대분류코드  ...    층정보    호정보     경도     위도\n",
              "0        False  False   True      False  ...  False   True  False  False\n",
              "1        False  False  False      False  ...  False   True  False  False\n",
              "2        False  False   True      False  ...  False   True  False  False\n",
              "3        False  False   True      False  ...  False  False  False  False\n",
              "4        False  False   True      False  ...  False   True  False  False\n",
              "...        ...    ...    ...        ...  ...    ...    ...    ...    ...\n",
              "573675   False  False   True      False  ...   True   True  False  False\n",
              "573676   False  False   True      False  ...  False   True  False  False\n",
              "573677   False  False   True      False  ...  False   True  False  False\n",
              "573678   False  False   True      False  ...  False   True  False  False\n",
              "573679   False  False   True      False  ...   True   True  False  False\n",
              "\n",
              "[573680 rows x 39 columns]"
            ]
          },
          "metadata": {
            "tags": []
          },
          "execution_count": 40
        }
      ]
    },
    {
      "cell_type": "markdown",
      "metadata": {
        "id": "jh8eOGICNOE3"
      },
      "source": [
        "### 결측치 보기"
      ]
    },
    {
      "cell_type": "code",
      "metadata": {
        "id": "RsDuPiUVNMvJ",
        "outputId": "73b9e558-2529-44ad-b536-fc4ae849005c",
        "colab": {
          "base_uri": "https://localhost:8080/"
        }
      },
      "source": [
        "# isnull() 을 사용하면 데이터의 결측치를 볼 수 있습니다.\r\n",
        "# 결측치는 True로 값이 있다면 False로 표시되는데 True 는 1과 같기 때문에 \r\n",
        "# True 값을 sum()을 사용해서 더하게 되면 합계를 볼 수 있습니다.\r\n",
        "(df.isnull().sum().index,  df.isnull().sum().values)"
      ],
      "execution_count": 66,
      "outputs": [
        {
          "output_type": "execute_result",
          "data": {
            "text/plain": [
              "(StringIndex(['상가업소번호' '상호명' '지점명' '상권업종대분류코드' '상권업종대분류명' '상권업종중분류코드' '상권업종중분류명'\n",
              "  '상권업종소분류코드' '상권업종소분류명' '표준산업분류코드' '표준산업분류명' '시도코드' '시도명' '시군구코드' '시군구명'\n",
              "  '행정동코드' '행정동명' '법정동코드' '법정동명' '지번코드' '대지구분코드' '대지구분명' '지번본번지' '지번부번지'\n",
              "  '지번주소' '도로명코드' '도로명' '건물본번지' '건물부번지' '건물관리번호' '건물명' '도로명주소' '구우편번호'\n",
              "  '신우편번호' '동정보' '층정보' '호정보' '경도' '위도'], dtype='object'),\n",
              " array([     0,      1, 497006,      0,      0,      0,      0,      0,\n",
              "             0,  34390,  34390,      0,      0,      0,      0,      0,\n",
              "             0,      0,      0,      0,      0,      0,      0,  98756,\n",
              "             0,      0,      0,      0, 501692,      0, 308072,      0,\n",
              "             0,      9, 522824, 226553, 488414,      0,      0]))"
            ]
          },
          "metadata": {
            "tags": []
          },
          "execution_count": 66
        }
      ]
    },
    {
      "cell_type": "code",
      "metadata": {
        "id": "V6Bnrp-Feix2"
      },
      "source": [
        ""
      ],
      "execution_count": null,
      "outputs": []
    }
  ]
}
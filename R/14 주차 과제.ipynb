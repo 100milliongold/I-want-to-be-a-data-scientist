{
 "cells": [
  {
   "cell_type": "markdown",
   "metadata": {},
   "source": [
    "# 14주차 과제"
   ]
  },
  {
   "cell_type": "markdown",
   "metadata": {},
   "source": [
    "## 주제 : Admission_Predict 데이터 셋을 통하여 학교등급과 합격여부의 관련성 확인"
   ]
  },
  {
   "cell_type": "markdown",
   "metadata": {},
   "source": [
    "- 가설 : University.Rating에 따라 Chance.of.Admit 에 영향을 줄것이다.\n",
    "- 대립 가설 : University.Rating\t와 Chance.of.Admit 은 연관성이 없을것이다."
   ]
  },
  {
   "cell_type": "markdown",
   "metadata": {},
   "source": [
    "`Admission_Predict.csv` 파일을 불려옵니다."
   ]
  },
  {
   "cell_type": "code",
   "execution_count": 1,
   "metadata": {},
   "outputs": [],
   "source": [
    "data <- read.csv(\"Admission_Predict.csv\")\n",
    "#https://stats.idre.ucla.edu/stat/data/binary.csv"
   ]
  },
  {
   "cell_type": "code",
   "execution_count": 2,
   "metadata": {},
   "outputs": [
    {
     "data": {
      "text/html": [
       "<table>\n",
       "<caption>A data.frame: 6 × 9</caption>\n",
       "<thead>\n",
       "\t<tr><th></th><th scope=col>Serial.No.</th><th scope=col>GRE.Score</th><th scope=col>TOEFL.Score</th><th scope=col>University.Rating</th><th scope=col>SOP</th><th scope=col>LOR</th><th scope=col>CGPA</th><th scope=col>Research</th><th scope=col>Chance.of.Admit</th></tr>\n",
       "\t<tr><th></th><th scope=col>&lt;int&gt;</th><th scope=col>&lt;int&gt;</th><th scope=col>&lt;int&gt;</th><th scope=col>&lt;int&gt;</th><th scope=col>&lt;dbl&gt;</th><th scope=col>&lt;dbl&gt;</th><th scope=col>&lt;dbl&gt;</th><th scope=col>&lt;int&gt;</th><th scope=col>&lt;dbl&gt;</th></tr>\n",
       "</thead>\n",
       "<tbody>\n",
       "\t<tr><th scope=row>1</th><td>1</td><td>337</td><td>118</td><td>4</td><td>4.5</td><td>4.5</td><td>9.65</td><td>1</td><td>0.92</td></tr>\n",
       "\t<tr><th scope=row>2</th><td>2</td><td>324</td><td>107</td><td>4</td><td>4.0</td><td>4.5</td><td>8.87</td><td>1</td><td>0.76</td></tr>\n",
       "\t<tr><th scope=row>3</th><td>3</td><td>316</td><td>104</td><td>3</td><td>3.0</td><td>3.5</td><td>8.00</td><td>1</td><td>0.72</td></tr>\n",
       "\t<tr><th scope=row>4</th><td>4</td><td>322</td><td>110</td><td>3</td><td>3.5</td><td>2.5</td><td>8.67</td><td>1</td><td>0.80</td></tr>\n",
       "\t<tr><th scope=row>5</th><td>5</td><td>314</td><td>103</td><td>2</td><td>2.0</td><td>3.0</td><td>8.21</td><td>0</td><td>0.65</td></tr>\n",
       "\t<tr><th scope=row>6</th><td>6</td><td>330</td><td>115</td><td>5</td><td>4.5</td><td>3.0</td><td>9.34</td><td>1</td><td>0.90</td></tr>\n",
       "</tbody>\n",
       "</table>\n"
      ],
      "text/latex": [
       "A data.frame: 6 × 9\n",
       "\\begin{tabular}{r|lllllllll}\n",
       "  & Serial.No. & GRE.Score & TOEFL.Score & University.Rating & SOP & LOR & CGPA & Research & Chance.of.Admit\\\\\n",
       "  & <int> & <int> & <int> & <int> & <dbl> & <dbl> & <dbl> & <int> & <dbl>\\\\\n",
       "\\hline\n",
       "\t1 & 1 & 337 & 118 & 4 & 4.5 & 4.5 & 9.65 & 1 & 0.92\\\\\n",
       "\t2 & 2 & 324 & 107 & 4 & 4.0 & 4.5 & 8.87 & 1 & 0.76\\\\\n",
       "\t3 & 3 & 316 & 104 & 3 & 3.0 & 3.5 & 8.00 & 1 & 0.72\\\\\n",
       "\t4 & 4 & 322 & 110 & 3 & 3.5 & 2.5 & 8.67 & 1 & 0.80\\\\\n",
       "\t5 & 5 & 314 & 103 & 2 & 2.0 & 3.0 & 8.21 & 0 & 0.65\\\\\n",
       "\t6 & 6 & 330 & 115 & 5 & 4.5 & 3.0 & 9.34 & 1 & 0.90\\\\\n",
       "\\end{tabular}\n"
      ],
      "text/markdown": [
       "\n",
       "A data.frame: 6 × 9\n",
       "\n",
       "| <!--/--> | Serial.No. &lt;int&gt; | GRE.Score &lt;int&gt; | TOEFL.Score &lt;int&gt; | University.Rating &lt;int&gt; | SOP &lt;dbl&gt; | LOR &lt;dbl&gt; | CGPA &lt;dbl&gt; | Research &lt;int&gt; | Chance.of.Admit &lt;dbl&gt; |\n",
       "|---|---|---|---|---|---|---|---|---|---|\n",
       "| 1 | 1 | 337 | 118 | 4 | 4.5 | 4.5 | 9.65 | 1 | 0.92 |\n",
       "| 2 | 2 | 324 | 107 | 4 | 4.0 | 4.5 | 8.87 | 1 | 0.76 |\n",
       "| 3 | 3 | 316 | 104 | 3 | 3.0 | 3.5 | 8.00 | 1 | 0.72 |\n",
       "| 4 | 4 | 322 | 110 | 3 | 3.5 | 2.5 | 8.67 | 1 | 0.80 |\n",
       "| 5 | 5 | 314 | 103 | 2 | 2.0 | 3.0 | 8.21 | 0 | 0.65 |\n",
       "| 6 | 6 | 330 | 115 | 5 | 4.5 | 3.0 | 9.34 | 1 | 0.90 |\n",
       "\n"
      ],
      "text/plain": [
       "  Serial.No. GRE.Score TOEFL.Score University.Rating SOP LOR CGPA Research\n",
       "1 1          337       118         4                 4.5 4.5 9.65 1       \n",
       "2 2          324       107         4                 4.0 4.5 8.87 1       \n",
       "3 3          316       104         3                 3.0 3.5 8.00 1       \n",
       "4 4          322       110         3                 3.5 2.5 8.67 1       \n",
       "5 5          314       103         2                 2.0 3.0 8.21 0       \n",
       "6 6          330       115         5                 4.5 3.0 9.34 1       \n",
       "  Chance.of.Admit\n",
       "1 0.92           \n",
       "2 0.76           \n",
       "3 0.72           \n",
       "4 0.80           \n",
       "5 0.65           \n",
       "6 0.90           "
      ]
     },
     "metadata": {},
     "output_type": "display_data"
    }
   ],
   "source": [
    "head(data)"
   ]
  },
  {
   "cell_type": "code",
   "execution_count": 3,
   "metadata": {},
   "outputs": [
    {
     "name": "stdout",
     "output_type": "stream",
     "text": [
      "'data.frame':\t400 obs. of  9 variables:\n",
      " $ Serial.No.       : int  1 2 3 4 5 6 7 8 9 10 ...\n",
      " $ GRE.Score        : int  337 324 316 322 314 330 321 308 302 323 ...\n",
      " $ TOEFL.Score      : int  118 107 104 110 103 115 109 101 102 108 ...\n",
      " $ University.Rating: int  4 4 3 3 2 5 3 2 1 3 ...\n",
      " $ SOP              : num  4.5 4 3 3.5 2 4.5 3 3 2 3.5 ...\n",
      " $ LOR              : num  4.5 4.5 3.5 2.5 3 3 4 4 1.5 3 ...\n",
      " $ CGPA             : num  9.65 8.87 8 8.67 8.21 9.34 8.2 7.9 8 8.6 ...\n",
      " $ Research         : int  1 1 1 1 0 1 1 0 0 0 ...\n",
      " $ Chance.of.Admit  : num  0.92 0.76 0.72 0.8 0.65 0.9 0.75 0.68 0.5 0.45 ...\n"
     ]
    }
   ],
   "source": [
    "str(data)"
   ]
  },
  {
   "cell_type": "markdown",
   "metadata": {},
   "source": [
    "데이터 세트에는 400개의 석사 프로그램 신청 중인 데이터이며 여러 매개 변수가 포함되어 있습니다.\n",
    "\n",
    "포함 된 매개 변수는 다음과 같습니다.\n",
    "\n",
    "- GRE.Score : GRE 점수 (340 점 만점)\n",
    "- TOEFL.Score : TOEFL 점수 (120 점 만점)\n",
    "- University.Rating: 대학 평가 (5 점 만점)\n",
    "- SOP : 목적 진술서 및 추천 강도 서신 (5 점 만점)\n",
    "- LOR : 학부 평점 (10 점 만점)\n",
    "- CGPA : 연구 경험 (0 또는 1)\n",
    "- Chance.of.Admit : 승인 기회 (0 ~ 1 범위)"
   ]
  },
  {
   "cell_type": "markdown",
   "metadata": {},
   "source": [
    "곁측치가 있는지 확인합니다."
   ]
  },
  {
   "cell_type": "code",
   "execution_count": 22,
   "metadata": {},
   "outputs": [],
   "source": [
    "library(naniar)"
   ]
  },
  {
   "cell_type": "code",
   "execution_count": 23,
   "metadata": {},
   "outputs": [
    {
     "data": {
      "image/png": "[encoded data removed]",
      "text/plain": [
       "plot without title"
      ]
     },
     "metadata": {
      "image/png": {
       "height": 420,
       "width": 420
      }
     },
     "output_type": "display_data"
    }
   ],
   "source": [
    "vis_miss(data)"
   ]
  },
  {
   "cell_type": "markdown",
   "metadata": {},
   "source": [
    "해당 데이터는 곁측치가 없는것으로 확인되었습니다."
   ]
  },
  {
   "cell_type": "markdown",
   "metadata": {},
   "source": [
    "## 산점도 그리기"
   ]
  },
  {
   "cell_type": "markdown",
   "metadata": {},
   "source": [
    "- GRE.Score 와 University.Rating 별로 산점도를 그립니다."
   ]
  },
  {
   "cell_type": "code",
   "execution_count": 25,
   "metadata": {},
   "outputs": [],
   "source": [
    "library(ggplot2)"
   ]
  },
  {
   "cell_type": "code",
   "execution_count": 27,
   "metadata": {},
   "outputs": [
    {
     "data": {
      "image/png": "[encoded data removed]",
      "text/plain": [
       "plot without title"
      ]
     },
     "metadata": {
      "image/png": {
       "height": 420,
       "width": 420
      }
     },
     "output_type": "display_data"
    }
   ],
   "source": [
    "ggplot(data=data,aes(x=University.Rating,y=Chance.of.Admit))+geom_point()"
   ]
  },
  {
   "cell_type": "markdown",
   "metadata": {},
   "source": [
    "산점도를 확인해보면 대략 10프로 에서 가설을 입증할수 있을것 같습니다."
   ]
  },
  {
   "cell_type": "markdown",
   "metadata": {},
   "source": [
    "필요한 데이터만 추출을 합니다."
   ]
  },
  {
   "cell_type": "code",
   "execution_count": 55,
   "metadata": {},
   "outputs": [
    {
     "data": {
      "text/html": [
       "<table>\n",
       "<caption>A data.frame: 6 × 4</caption>\n",
       "<thead>\n",
       "\t<tr><th></th><th scope=col>admit</th><th scope=col>gre</th><th scope=col>gpa</th><th scope=col>rank</th></tr>\n",
       "\t<tr><th></th><th scope=col>&lt;dbl&gt;</th><th scope=col>&lt;int&gt;</th><th scope=col>&lt;dbl&gt;</th><th scope=col>&lt;int&gt;</th></tr>\n",
       "</thead>\n",
       "<tbody>\n",
       "\t<tr><th scope=row>1</th><td>0.92</td><td>337</td><td>9.65</td><td>4</td></tr>\n",
       "\t<tr><th scope=row>2</th><td>0.76</td><td>324</td><td>8.87</td><td>4</td></tr>\n",
       "\t<tr><th scope=row>3</th><td>0.72</td><td>316</td><td>8.00</td><td>3</td></tr>\n",
       "\t<tr><th scope=row>4</th><td>0.80</td><td>322</td><td>8.67</td><td>3</td></tr>\n",
       "\t<tr><th scope=row>5</th><td>0.65</td><td>314</td><td>8.21</td><td>2</td></tr>\n",
       "\t<tr><th scope=row>6</th><td>0.90</td><td>330</td><td>9.34</td><td>5</td></tr>\n",
       "</tbody>\n",
       "</table>\n"
      ],
      "text/latex": [
       "A data.frame: 6 × 4\n",
       "\\begin{tabular}{r|llll}\n",
       "  & admit & gre & gpa & rank\\\\\n",
       "  & <dbl> & <int> & <dbl> & <int>\\\\\n",
       "\\hline\n",
       "\t1 & 0.92 & 337 & 9.65 & 4\\\\\n",
       "\t2 & 0.76 & 324 & 8.87 & 4\\\\\n",
       "\t3 & 0.72 & 316 & 8.00 & 3\\\\\n",
       "\t4 & 0.80 & 322 & 8.67 & 3\\\\\n",
       "\t5 & 0.65 & 314 & 8.21 & 2\\\\\n",
       "\t6 & 0.90 & 330 & 9.34 & 5\\\\\n",
       "\\end{tabular}\n"
      ],
      "text/markdown": [
       "\n",
       "A data.frame: 6 × 4\n",
       "\n",
       "| <!--/--> | admit &lt;dbl&gt; | gre &lt;int&gt; | gpa &lt;dbl&gt; | rank &lt;int&gt; |\n",
       "|---|---|---|---|---|\n",
       "| 1 | 0.92 | 337 | 9.65 | 4 |\n",
       "| 2 | 0.76 | 324 | 8.87 | 4 |\n",
       "| 3 | 0.72 | 316 | 8.00 | 3 |\n",
       "| 4 | 0.80 | 322 | 8.67 | 3 |\n",
       "| 5 | 0.65 | 314 | 8.21 | 2 |\n",
       "| 6 | 0.90 | 330 | 9.34 | 5 |\n",
       "\n"
      ],
      "text/plain": [
       "  admit gre gpa  rank\n",
       "1 0.92  337 9.65 4   \n",
       "2 0.76  324 8.87 4   \n",
       "3 0.72  316 8.00 3   \n",
       "4 0.80  322 8.67 3   \n",
       "5 0.65  314 8.21 2   \n",
       "6 0.90  330 9.34 5   "
      ]
     },
     "metadata": {},
     "output_type": "display_data"
    },
    {
     "name": "stdout",
     "output_type": "stream",
     "text": [
      "'data.frame':\t400 obs. of  4 variables:\n",
      " $ admit: num  0.92 0.76 0.72 0.8 0.65 0.9 0.75 0.68 0.5 0.45 ...\n",
      " $ gre  : int  337 324 316 322 314 330 321 308 302 323 ...\n",
      " $ gpa  : num  9.65 8.87 8 8.67 8.21 9.34 8.2 7.9 8 8.6 ...\n",
      " $ rank : int  4 4 3 3 2 5 3 2 1 3 ...\n"
     ]
    }
   ],
   "source": [
    "data2 <- data.frame(data$Chance.of.Admit , data$GRE.Score , data$CGPA , data$University.Rating)\n",
    "names(data2) <- c(\"admit\", \"gre\" , \"gpa\" , \"rank\")\n",
    "head(data2)\n",
    "str(data2)"
   ]
  },
  {
   "cell_type": "markdown",
   "metadata": {},
   "source": [
    "로지스틱 회귀분석을 위하여 종속변수가 2개의 범주(0,1)을 가지기 위해서\n",
    "\n",
    "admit 변수에서 0.5 이상이면 1 0.5 이하이면 0 으로 admit_50 이라는 변수를 생성합니다."
   ]
  },
  {
   "cell_type": "code",
   "execution_count": 56,
   "metadata": {},
   "outputs": [
    {
     "data": {
      "text/html": [
       "<table>\n",
       "<caption>A data.frame: 6 × 5</caption>\n",
       "<thead>\n",
       "\t<tr><th></th><th scope=col>admit</th><th scope=col>gre</th><th scope=col>gpa</th><th scope=col>rank</th><th scope=col>admit_50</th></tr>\n",
       "\t<tr><th></th><th scope=col>&lt;dbl&gt;</th><th scope=col>&lt;int&gt;</th><th scope=col>&lt;dbl&gt;</th><th scope=col>&lt;int&gt;</th><th scope=col>&lt;dbl&gt;</th></tr>\n",
       "</thead>\n",
       "<tbody>\n",
       "\t<tr><th scope=row>1</th><td>0.92</td><td>337</td><td>9.65</td><td>4</td><td>1</td></tr>\n",
       "\t<tr><th scope=row>2</th><td>0.76</td><td>324</td><td>8.87</td><td>4</td><td>1</td></tr>\n",
       "\t<tr><th scope=row>3</th><td>0.72</td><td>316</td><td>8.00</td><td>3</td><td>1</td></tr>\n",
       "\t<tr><th scope=row>4</th><td>0.80</td><td>322</td><td>8.67</td><td>3</td><td>1</td></tr>\n",
       "\t<tr><th scope=row>5</th><td>0.65</td><td>314</td><td>8.21</td><td>2</td><td>1</td></tr>\n",
       "\t<tr><th scope=row>6</th><td>0.90</td><td>330</td><td>9.34</td><td>5</td><td>1</td></tr>\n",
       "</tbody>\n",
       "</table>\n"
      ],
      "text/latex": [
       "A data.frame: 6 × 5\n",
       "\\begin{tabular}{r|lllll}\n",
       "  & admit & gre & gpa & rank & admit\\_50\\\\\n",
       "  & <dbl> & <int> & <dbl> & <int> & <dbl>\\\\\n",
       "\\hline\n",
       "\t1 & 0.92 & 337 & 9.65 & 4 & 1\\\\\n",
       "\t2 & 0.76 & 324 & 8.87 & 4 & 1\\\\\n",
       "\t3 & 0.72 & 316 & 8.00 & 3 & 1\\\\\n",
       "\t4 & 0.80 & 322 & 8.67 & 3 & 1\\\\\n",
       "\t5 & 0.65 & 314 & 8.21 & 2 & 1\\\\\n",
       "\t6 & 0.90 & 330 & 9.34 & 5 & 1\\\\\n",
       "\\end{tabular}\n"
      ],
      "text/markdown": [
       "\n",
       "A data.frame: 6 × 5\n",
       "\n",
       "| <!--/--> | admit &lt;dbl&gt; | gre &lt;int&gt; | gpa &lt;dbl&gt; | rank &lt;int&gt; | admit_50 &lt;dbl&gt; |\n",
       "|---|---|---|---|---|---|\n",
       "| 1 | 0.92 | 337 | 9.65 | 4 | 1 |\n",
       "| 2 | 0.76 | 324 | 8.87 | 4 | 1 |\n",
       "| 3 | 0.72 | 316 | 8.00 | 3 | 1 |\n",
       "| 4 | 0.80 | 322 | 8.67 | 3 | 1 |\n",
       "| 5 | 0.65 | 314 | 8.21 | 2 | 1 |\n",
       "| 6 | 0.90 | 330 | 9.34 | 5 | 1 |\n",
       "\n"
      ],
      "text/plain": [
       "  admit gre gpa  rank admit_50\n",
       "1 0.92  337 9.65 4    1       \n",
       "2 0.76  324 8.87 4    1       \n",
       "3 0.72  316 8.00 3    1       \n",
       "4 0.80  322 8.67 3    1       \n",
       "5 0.65  314 8.21 2    1       \n",
       "6 0.90  330 9.34 5    1       "
      ]
     },
     "metadata": {},
     "output_type": "display_data"
    }
   ],
   "source": [
    "data2$admit_50 <- ifelse(data2$admit > 0.5, 1, 0)\n",
    "head(data2)"
   ]
  },
  {
   "cell_type": "markdown",
   "metadata": {},
   "source": [
    "학교 등급을 나타내는 rank변수는 범주형이므로 factor 처리 합니다."
   ]
  },
  {
   "cell_type": "code",
   "execution_count": 57,
   "metadata": {},
   "outputs": [
    {
     "data": {
      "text/html": [
       "<table>\n",
       "<caption>A data.frame: 6 × 5</caption>\n",
       "<thead>\n",
       "\t<tr><th></th><th scope=col>admit</th><th scope=col>gre</th><th scope=col>gpa</th><th scope=col>rank</th><th scope=col>admit_50</th></tr>\n",
       "\t<tr><th></th><th scope=col>&lt;dbl&gt;</th><th scope=col>&lt;int&gt;</th><th scope=col>&lt;dbl&gt;</th><th scope=col>&lt;fct&gt;</th><th scope=col>&lt;dbl&gt;</th></tr>\n",
       "</thead>\n",
       "<tbody>\n",
       "\t<tr><th scope=row>1</th><td>0.92</td><td>337</td><td>9.65</td><td>4</td><td>1</td></tr>\n",
       "\t<tr><th scope=row>2</th><td>0.76</td><td>324</td><td>8.87</td><td>4</td><td>1</td></tr>\n",
       "\t<tr><th scope=row>3</th><td>0.72</td><td>316</td><td>8.00</td><td>3</td><td>1</td></tr>\n",
       "\t<tr><th scope=row>4</th><td>0.80</td><td>322</td><td>8.67</td><td>3</td><td>1</td></tr>\n",
       "\t<tr><th scope=row>5</th><td>0.65</td><td>314</td><td>8.21</td><td>2</td><td>1</td></tr>\n",
       "\t<tr><th scope=row>6</th><td>0.90</td><td>330</td><td>9.34</td><td>5</td><td>1</td></tr>\n",
       "</tbody>\n",
       "</table>\n"
      ],
      "text/latex": [
       "A data.frame: 6 × 5\n",
       "\\begin{tabular}{r|lllll}\n",
       "  & admit & gre & gpa & rank & admit\\_50\\\\\n",
       "  & <dbl> & <int> & <dbl> & <fct> & <dbl>\\\\\n",
       "\\hline\n",
       "\t1 & 0.92 & 337 & 9.65 & 4 & 1\\\\\n",
       "\t2 & 0.76 & 324 & 8.87 & 4 & 1\\\\\n",
       "\t3 & 0.72 & 316 & 8.00 & 3 & 1\\\\\n",
       "\t4 & 0.80 & 322 & 8.67 & 3 & 1\\\\\n",
       "\t5 & 0.65 & 314 & 8.21 & 2 & 1\\\\\n",
       "\t6 & 0.90 & 330 & 9.34 & 5 & 1\\\\\n",
       "\\end{tabular}\n"
      ],
      "text/markdown": [
       "\n",
       "A data.frame: 6 × 5\n",
       "\n",
       "| <!--/--> | admit &lt;dbl&gt; | gre &lt;int&gt; | gpa &lt;dbl&gt; | rank &lt;fct&gt; | admit_50 &lt;dbl&gt; |\n",
       "|---|---|---|---|---|---|\n",
       "| 1 | 0.92 | 337 | 9.65 | 4 | 1 |\n",
       "| 2 | 0.76 | 324 | 8.87 | 4 | 1 |\n",
       "| 3 | 0.72 | 316 | 8.00 | 3 | 1 |\n",
       "| 4 | 0.80 | 322 | 8.67 | 3 | 1 |\n",
       "| 5 | 0.65 | 314 | 8.21 | 2 | 1 |\n",
       "| 6 | 0.90 | 330 | 9.34 | 5 | 1 |\n",
       "\n"
      ],
      "text/plain": [
       "  admit gre gpa  rank admit_50\n",
       "1 0.92  337 9.65 4    1       \n",
       "2 0.76  324 8.87 4    1       \n",
       "3 0.72  316 8.00 3    1       \n",
       "4 0.80  322 8.67 3    1       \n",
       "5 0.65  314 8.21 2    1       \n",
       "6 0.90  330 9.34 5    1       "
      ]
     },
     "metadata": {},
     "output_type": "display_data"
    }
   ],
   "source": [
    "data2$rank <-as.factor(data2$rank)\n",
    "head(data2)"
   ]
  },
  {
   "cell_type": "markdown",
   "metadata": {},
   "source": [
    "train set과 test set을 나누어, train set으로 모델을 세우고, test셋으로 결과를 확인 합니다.\n",
    "\n",
    "일반적으로 train set 에 70%, test set에 30%정도 지정합니다."
   ]
  },
  {
   "cell_type": "code",
   "execution_count": 58,
   "metadata": {},
   "outputs": [
    {
     "data": {
      "text/html": [
       "280"
      ],
      "text/latex": [
       "280"
      ],
      "text/markdown": [
       "280"
      ],
      "text/plain": [
       "[1] 280"
      ]
     },
     "metadata": {},
     "output_type": "display_data"
    }
   ],
   "source": [
    "400 * 0.7"
   ]
  },
  {
   "cell_type": "code",
   "execution_count": 59,
   "metadata": {},
   "outputs": [
    {
     "data": {
      "text/html": [
       "120"
      ],
      "text/latex": [
       "120"
      ],
      "text/markdown": [
       "120"
      ],
      "text/plain": [
       "[1] 120"
      ]
     },
     "metadata": {},
     "output_type": "display_data"
    }
   ],
   "source": [
    "400 * 0.3"
   ]
  },
  {
   "cell_type": "code",
   "execution_count": 60,
   "metadata": {},
   "outputs": [],
   "source": [
    "train<-data2[1:280, ]\n",
    "test<-data2[281:400, ]"
   ]
  },
  {
   "cell_type": "markdown",
   "metadata": {},
   "source": [
    "위에서 지정한 train set으로 로지스틱 회귀분석 model을 세웁니다.\n",
    "y가 0과 1뿐인 이산형 변수이므로 'family = binomial'이라는 옵션을 넣어줍니다."
   ]
  },
  {
   "cell_type": "code",
   "execution_count": 61,
   "metadata": {},
   "outputs": [
    {
     "data": {
      "text/plain": [
       "\n",
       "Call:\n",
       "glm(formula = admit_50 ~ gre + gpa + rank, family = \"binomial\", \n",
       "    data = train)\n",
       "\n",
       "Deviance Residuals: \n",
       "    Min       1Q   Median       3Q      Max  \n",
       "-3.0814   0.0001   0.1011   0.3177   1.5440  \n",
       "\n",
       "Coefficients:\n",
       "              Estimate Std. Error z value Pr(>|z|)    \n",
       "(Intercept)  -51.58907   12.04182  -4.284 1.83e-05 ***\n",
       "gre            0.08109    0.04051   2.002   0.0453 *  \n",
       "gpa            3.65783    0.89852   4.071 4.68e-05 ***\n",
       "rank2         -1.08108    0.86390  -1.251   0.2108    \n",
       "rank3         -1.32172    0.98703  -1.339   0.1805    \n",
       "rank4         -1.60907    1.37829  -1.167   0.2430    \n",
       "rank5         12.26436 1213.79749   0.010   0.9919    \n",
       "---\n",
       "Signif. codes:  0 ‘***’ 0.001 ‘**’ 0.01 ‘*’ 0.05 ‘.’ 0.1 ‘ ’ 1\n",
       "\n",
       "(Dispersion parameter for binomial family taken to be 1)\n",
       "\n",
       "    Null deviance: 163.805  on 279  degrees of freedom\n",
       "Residual deviance:  92.162  on 273  degrees of freedom\n",
       "AIC: 106.16\n",
       "\n",
       "Number of Fisher Scoring iterations: 18\n"
      ]
     },
     "metadata": {},
     "output_type": "display_data"
    }
   ],
   "source": [
    "model <- glm(admit_50 ~ gre + gpa + rank, data =train, family = \"binomial\")\n",
    "summary(model)"
   ]
  },
  {
   "cell_type": "markdown",
   "metadata": {},
   "source": [
    "표의 가장 우측 열의 p-value가 0.05보다 작은 변수는 없으므로 통계적으로 유의한 변수가 없습니다.\n",
    "\n",
    "p_value가 0.05보다 작은 변수은 없으으로 가설을 입증할수가 없습니다."
   ]
  },
  {
   "cell_type": "markdown",
   "metadata": {},
   "source": [
    "## ROC 커브"
   ]
  },
  {
   "cell_type": "markdown",
   "metadata": {},
   "source": [
    "로지스틱 회귀 모델의 평가를 하기 위해 ROC 커브를 그려겠습니다."
   ]
  },
  {
   "cell_type": "code",
   "execution_count": 62,
   "metadata": {},
   "outputs": [],
   "source": [
    "library(ROCR)"
   ]
  },
  {
   "cell_type": "code",
   "execution_count": 63,
   "metadata": {},
   "outputs": [
    {
     "data": {
      "image/png": "[encoded data removed]",
      "text/plain": [
       "plot without title"
      ]
     },
     "metadata": {
      "image/png": {
       "height": 420,
       "width": 420
      }
     },
     "output_type": "display_data"
    }
   ],
   "source": [
    "p <- predict(model, newdata=test, type=\"response\")\n",
    "pr <- prediction(p, test$admit_50)\n",
    "prf <- performance(pr, measure = \"tpr\", x.measure = \"fpr\")\n",
    "plot(prf)"
   ]
  },
  {
   "cell_type": "code",
   "execution_count": null,
   "metadata": {},
   "outputs": [],
   "source": []
  },
  {
   "cell_type": "code",
   "execution_count": null,
   "metadata": {},
   "outputs": [],
   "source": []
  },
  {
   "cell_type": "markdown",
   "metadata": {},
   "source": [
    "admit 변수에서 0.5 이상인 점수을 종속변수로 만들지 않고 `Chance.of.Admit` 에서 상위 10% 이내로 종속변수로 변경합니다."
   ]
  },
  {
   "cell_type": "code",
   "execution_count": 65,
   "metadata": {},
   "outputs": [],
   "source": [
    "data3 <- data.frame(data$Chance.of.Admit , data$GRE.Score , data$CGPA , data$University.Rating)\n",
    "names(data3) <- c(\"admit\", \"gre\" , \"gpa\" , \"rank\")"
   ]
  },
  {
   "cell_type": "markdown",
   "metadata": {},
   "source": [
    "data3 에서 admit 변수에 순위를 매김니다."
   ]
  },
  {
   "cell_type": "code",
   "execution_count": 66,
   "metadata": {},
   "outputs": [
    {
     "data": {
      "text/html": [
       "<table>\n",
       "<caption>A data.frame: 6 × 5</caption>\n",
       "<thead>\n",
       "\t<tr><th></th><th scope=col>admit</th><th scope=col>gre</th><th scope=col>gpa</th><th scope=col>rank</th><th scope=col>admit_rank</th></tr>\n",
       "\t<tr><th></th><th scope=col>&lt;dbl&gt;</th><th scope=col>&lt;int&gt;</th><th scope=col>&lt;dbl&gt;</th><th scope=col>&lt;int&gt;</th><th scope=col>&lt;int&gt;</th></tr>\n",
       "</thead>\n",
       "<tbody>\n",
       "\t<tr><th scope=row>1</th><td>0.92</td><td>337</td><td>9.65</td><td>4</td><td> 93</td></tr>\n",
       "\t<tr><th scope=row>2</th><td>0.76</td><td>324</td><td>8.87</td><td>4</td><td>377</td></tr>\n",
       "\t<tr><th scope=row>3</th><td>0.72</td><td>316</td><td>8.00</td><td>3</td><td> 59</td></tr>\n",
       "\t<tr><th scope=row>4</th><td>0.80</td><td>322</td><td>8.67</td><td>3</td><td> 95</td></tr>\n",
       "\t<tr><th scope=row>5</th><td>0.65</td><td>314</td><td>8.21</td><td>2</td><td> 92</td></tr>\n",
       "\t<tr><th scope=row>6</th><td>0.90</td><td>330</td><td>9.34</td><td>5</td><td>376</td></tr>\n",
       "</tbody>\n",
       "</table>\n"
      ],
      "text/latex": [
       "A data.frame: 6 × 5\n",
       "\\begin{tabular}{r|lllll}\n",
       "  & admit & gre & gpa & rank & admit\\_rank\\\\\n",
       "  & <dbl> & <int> & <dbl> & <int> & <int>\\\\\n",
       "\\hline\n",
       "\t1 & 0.92 & 337 & 9.65 & 4 &  93\\\\\n",
       "\t2 & 0.76 & 324 & 8.87 & 4 & 377\\\\\n",
       "\t3 & 0.72 & 316 & 8.00 & 3 &  59\\\\\n",
       "\t4 & 0.80 & 322 & 8.67 & 3 &  95\\\\\n",
       "\t5 & 0.65 & 314 & 8.21 & 2 &  92\\\\\n",
       "\t6 & 0.90 & 330 & 9.34 & 5 & 376\\\\\n",
       "\\end{tabular}\n"
      ],
      "text/markdown": [
       "\n",
       "A data.frame: 6 × 5\n",
       "\n",
       "| <!--/--> | admit &lt;dbl&gt; | gre &lt;int&gt; | gpa &lt;dbl&gt; | rank &lt;int&gt; | admit_rank &lt;int&gt; |\n",
       "|---|---|---|---|---|---|\n",
       "| 1 | 0.92 | 337 | 9.65 | 4 |  93 |\n",
       "| 2 | 0.76 | 324 | 8.87 | 4 | 377 |\n",
       "| 3 | 0.72 | 316 | 8.00 | 3 |  59 |\n",
       "| 4 | 0.80 | 322 | 8.67 | 3 |  95 |\n",
       "| 5 | 0.65 | 314 | 8.21 | 2 |  92 |\n",
       "| 6 | 0.90 | 330 | 9.34 | 5 | 376 |\n",
       "\n"
      ],
      "text/plain": [
       "  admit gre gpa  rank admit_rank\n",
       "1 0.92  337 9.65 4     93       \n",
       "2 0.76  324 8.87 4    377       \n",
       "3 0.72  316 8.00 3     59       \n",
       "4 0.80  322 8.67 3     95       \n",
       "5 0.65  314 8.21 2     92       \n",
       "6 0.90  330 9.34 5    376       "
      ]
     },
     "metadata": {},
     "output_type": "display_data"
    }
   ],
   "source": [
    "data3$admit_rank <- order(data3$admit)\n",
    "head(data3)"
   ]
  },
  {
   "cell_type": "markdown",
   "metadata": {},
   "source": [
    "admit_rank 변수에 40 보다 작으면 1 , 크면 0 으로 설정합니다."
   ]
  },
  {
   "cell_type": "code",
   "execution_count": 67,
   "metadata": {},
   "outputs": [
    {
     "data": {
      "text/html": [
       "<table>\n",
       "<caption>A data.frame: 6 × 6</caption>\n",
       "<thead>\n",
       "\t<tr><th></th><th scope=col>admit</th><th scope=col>gre</th><th scope=col>gpa</th><th scope=col>rank</th><th scope=col>admit_rank</th><th scope=col>admit_10</th></tr>\n",
       "\t<tr><th></th><th scope=col>&lt;dbl&gt;</th><th scope=col>&lt;int&gt;</th><th scope=col>&lt;dbl&gt;</th><th scope=col>&lt;int&gt;</th><th scope=col>&lt;int&gt;</th><th scope=col>&lt;dbl&gt;</th></tr>\n",
       "</thead>\n",
       "<tbody>\n",
       "\t<tr><th scope=row>1</th><td>0.92</td><td>337</td><td>9.65</td><td>4</td><td> 93</td><td>0</td></tr>\n",
       "\t<tr><th scope=row>2</th><td>0.76</td><td>324</td><td>8.87</td><td>4</td><td>377</td><td>0</td></tr>\n",
       "\t<tr><th scope=row>3</th><td>0.72</td><td>316</td><td>8.00</td><td>3</td><td> 59</td><td>0</td></tr>\n",
       "\t<tr><th scope=row>4</th><td>0.80</td><td>322</td><td>8.67</td><td>3</td><td> 95</td><td>0</td></tr>\n",
       "\t<tr><th scope=row>5</th><td>0.65</td><td>314</td><td>8.21</td><td>2</td><td> 92</td><td>0</td></tr>\n",
       "\t<tr><th scope=row>6</th><td>0.90</td><td>330</td><td>9.34</td><td>5</td><td>376</td><td>0</td></tr>\n",
       "</tbody>\n",
       "</table>\n"
      ],
      "text/latex": [
       "A data.frame: 6 × 6\n",
       "\\begin{tabular}{r|llllll}\n",
       "  & admit & gre & gpa & rank & admit\\_rank & admit\\_10\\\\\n",
       "  & <dbl> & <int> & <dbl> & <int> & <int> & <dbl>\\\\\n",
       "\\hline\n",
       "\t1 & 0.92 & 337 & 9.65 & 4 &  93 & 0\\\\\n",
       "\t2 & 0.76 & 324 & 8.87 & 4 & 377 & 0\\\\\n",
       "\t3 & 0.72 & 316 & 8.00 & 3 &  59 & 0\\\\\n",
       "\t4 & 0.80 & 322 & 8.67 & 3 &  95 & 0\\\\\n",
       "\t5 & 0.65 & 314 & 8.21 & 2 &  92 & 0\\\\\n",
       "\t6 & 0.90 & 330 & 9.34 & 5 & 376 & 0\\\\\n",
       "\\end{tabular}\n"
      ],
      "text/markdown": [
       "\n",
       "A data.frame: 6 × 6\n",
       "\n",
       "| <!--/--> | admit &lt;dbl&gt; | gre &lt;int&gt; | gpa &lt;dbl&gt; | rank &lt;int&gt; | admit_rank &lt;int&gt; | admit_10 &lt;dbl&gt; |\n",
       "|---|---|---|---|---|---|---|\n",
       "| 1 | 0.92 | 337 | 9.65 | 4 |  93 | 0 |\n",
       "| 2 | 0.76 | 324 | 8.87 | 4 | 377 | 0 |\n",
       "| 3 | 0.72 | 316 | 8.00 | 3 |  59 | 0 |\n",
       "| 4 | 0.80 | 322 | 8.67 | 3 |  95 | 0 |\n",
       "| 5 | 0.65 | 314 | 8.21 | 2 |  92 | 0 |\n",
       "| 6 | 0.90 | 330 | 9.34 | 5 | 376 | 0 |\n",
       "\n"
      ],
      "text/plain": [
       "  admit gre gpa  rank admit_rank admit_10\n",
       "1 0.92  337 9.65 4     93        0       \n",
       "2 0.76  324 8.87 4    377        0       \n",
       "3 0.72  316 8.00 3     59        0       \n",
       "4 0.80  322 8.67 3     95        0       \n",
       "5 0.65  314 8.21 2     92        0       \n",
       "6 0.90  330 9.34 5    376        0       "
      ]
     },
     "metadata": {},
     "output_type": "display_data"
    }
   ],
   "source": [
    "data3$admit_10 <- ifelse(data3$admit_rank < 40, 1, 0)\n",
    "head(data3)"
   ]
  },
  {
   "cell_type": "code",
   "execution_count": 68,
   "metadata": {},
   "outputs": [
    {
     "data": {
      "text/html": [
       "<table>\n",
       "<caption>A data.frame: 6 × 6</caption>\n",
       "<thead>\n",
       "\t<tr><th></th><th scope=col>admit</th><th scope=col>gre</th><th scope=col>gpa</th><th scope=col>rank</th><th scope=col>admit_rank</th><th scope=col>admit_10</th></tr>\n",
       "\t<tr><th></th><th scope=col>&lt;dbl&gt;</th><th scope=col>&lt;int&gt;</th><th scope=col>&lt;dbl&gt;</th><th scope=col>&lt;fct&gt;</th><th scope=col>&lt;int&gt;</th><th scope=col>&lt;dbl&gt;</th></tr>\n",
       "</thead>\n",
       "<tbody>\n",
       "\t<tr><th scope=row>1</th><td>0.92</td><td>337</td><td>9.65</td><td>4</td><td> 93</td><td>0</td></tr>\n",
       "\t<tr><th scope=row>2</th><td>0.76</td><td>324</td><td>8.87</td><td>4</td><td>377</td><td>0</td></tr>\n",
       "\t<tr><th scope=row>3</th><td>0.72</td><td>316</td><td>8.00</td><td>3</td><td> 59</td><td>0</td></tr>\n",
       "\t<tr><th scope=row>4</th><td>0.80</td><td>322</td><td>8.67</td><td>3</td><td> 95</td><td>0</td></tr>\n",
       "\t<tr><th scope=row>5</th><td>0.65</td><td>314</td><td>8.21</td><td>2</td><td> 92</td><td>0</td></tr>\n",
       "\t<tr><th scope=row>6</th><td>0.90</td><td>330</td><td>9.34</td><td>5</td><td>376</td><td>0</td></tr>\n",
       "</tbody>\n",
       "</table>\n"
      ],
      "text/latex": [
       "A data.frame: 6 × 6\n",
       "\\begin{tabular}{r|llllll}\n",
       "  & admit & gre & gpa & rank & admit\\_rank & admit\\_10\\\\\n",
       "  & <dbl> & <int> & <dbl> & <fct> & <int> & <dbl>\\\\\n",
       "\\hline\n",
       "\t1 & 0.92 & 337 & 9.65 & 4 &  93 & 0\\\\\n",
       "\t2 & 0.76 & 324 & 8.87 & 4 & 377 & 0\\\\\n",
       "\t3 & 0.72 & 316 & 8.00 & 3 &  59 & 0\\\\\n",
       "\t4 & 0.80 & 322 & 8.67 & 3 &  95 & 0\\\\\n",
       "\t5 & 0.65 & 314 & 8.21 & 2 &  92 & 0\\\\\n",
       "\t6 & 0.90 & 330 & 9.34 & 5 & 376 & 0\\\\\n",
       "\\end{tabular}\n"
      ],
      "text/markdown": [
       "\n",
       "A data.frame: 6 × 6\n",
       "\n",
       "| <!--/--> | admit &lt;dbl&gt; | gre &lt;int&gt; | gpa &lt;dbl&gt; | rank &lt;fct&gt; | admit_rank &lt;int&gt; | admit_10 &lt;dbl&gt; |\n",
       "|---|---|---|---|---|---|---|\n",
       "| 1 | 0.92 | 337 | 9.65 | 4 |  93 | 0 |\n",
       "| 2 | 0.76 | 324 | 8.87 | 4 | 377 | 0 |\n",
       "| 3 | 0.72 | 316 | 8.00 | 3 |  59 | 0 |\n",
       "| 4 | 0.80 | 322 | 8.67 | 3 |  95 | 0 |\n",
       "| 5 | 0.65 | 314 | 8.21 | 2 |  92 | 0 |\n",
       "| 6 | 0.90 | 330 | 9.34 | 5 | 376 | 0 |\n",
       "\n"
      ],
      "text/plain": [
       "  admit gre gpa  rank admit_rank admit_10\n",
       "1 0.92  337 9.65 4     93        0       \n",
       "2 0.76  324 8.87 4    377        0       \n",
       "3 0.72  316 8.00 3     59        0       \n",
       "4 0.80  322 8.67 3     95        0       \n",
       "5 0.65  314 8.21 2     92        0       \n",
       "6 0.90  330 9.34 5    376        0       "
      ]
     },
     "metadata": {},
     "output_type": "display_data"
    }
   ],
   "source": [
    "data3$rank <-as.factor(data3$rank)\n",
    "head(data3)"
   ]
  },
  {
   "cell_type": "code",
   "execution_count": 69,
   "metadata": {},
   "outputs": [],
   "source": [
    "train2<-data3[1:280, ]\n",
    "test2<-data3[281:400, ]"
   ]
  },
  {
   "cell_type": "code",
   "execution_count": 70,
   "metadata": {},
   "outputs": [
    {
     "data": {
      "text/plain": [
       "\n",
       "Call:\n",
       "glm(formula = admit_10 ~ gre + gpa + rank, family = \"binomial\", \n",
       "    data = train2)\n",
       "\n",
       "Deviance Residuals: \n",
       "    Min       1Q   Median       3Q      Max  \n",
       "-0.7385  -0.4920  -0.4205  -0.3714   2.5532  \n",
       "\n",
       "Coefficients:\n",
       "            Estimate Std. Error z value Pr(>|z|)\n",
       "(Intercept)  1.88896    7.08681   0.267    0.790\n",
       "gre         -0.03689    0.03194  -1.155    0.248\n",
       "gpa          0.95000    0.71148   1.335    0.182\n",
       "rank2       -0.90120    0.92593  -0.973    0.330\n",
       "rank3       -0.20800    0.90373  -0.230    0.818\n",
       "rank4       -0.76270    1.08918  -0.700    0.484\n",
       "rank5       -1.13003    1.19849  -0.943    0.346\n",
       "\n",
       "(Dispersion parameter for binomial family taken to be 1)\n",
       "\n",
       "    Null deviance: 182.05  on 279  degrees of freedom\n",
       "Residual deviance: 177.59  on 273  degrees of freedom\n",
       "AIC: 191.59\n",
       "\n",
       "Number of Fisher Scoring iterations: 5\n"
      ]
     },
     "metadata": {},
     "output_type": "display_data"
    }
   ],
   "source": [
    "model2 <- glm(admit_10 ~ gre + gpa + rank, data =train2, family = \"binomial\")\n",
    "summary(model2)"
   ]
  },
  {
   "cell_type": "markdown",
   "metadata": {},
   "source": [
    "## 모델 해석\n",
    "\n",
    "표의 가장 우측 열의 p-value가 0.05보다 작은 변수는 gre, rank3, rank4 입니다.\n",
    "\n",
    "이 세가지가 모두 통계적으로 유의하다고 해석 할 수 있습니다. \n",
    "\n",
    "rank2 의 p-value가 가장 낮은 것으로 보아 예측력이 좀더 강한 것으로 보이며. \n",
    "\n",
    "Estimate 열의 부호가 마이너스(-) 이므로 학교의 랭크에 따라 admit 변수어 어느정도 영향을 줄수있다고 판단이 됩니다."
   ]
  },
  {
   "cell_type": "markdown",
   "metadata": {},
   "source": [
    "## ROC 커브"
   ]
  },
  {
   "cell_type": "code",
   "execution_count": 71,
   "metadata": {},
   "outputs": [
    {
     "data": {
      "image/png": "[encoded data removed]",
      "text/plain": [
       "plot without title"
      ]
     },
     "metadata": {
      "image/png": {
       "height": 420,
       "width": 420
      }
     },
     "output_type": "display_data"
    }
   ],
   "source": [
    "p2 <- predict(model2, newdata=test2, type=\"response\")\n",
    "pr2 <- prediction(p2, test2$admit_10)\n",
    "prf2 <- performance(pr2, measure = \"tpr\", x.measure = \"fpr\")\n",
    "plot(prf2)"
   ]
  },
  {
   "cell_type": "markdown",
   "metadata": {},
   "source": [
    "## 결론\n",
    "- University.Rating(대학 평가)에 따른  Chance.of.Admit (승인 기회) 에 영향을 미친다는 가설은 신빙성이 있다."
   ]
  },
  {
   "cell_type": "code",
   "execution_count": null,
   "metadata": {},
   "outputs": [],
   "source": []
  }
 ],
 "metadata": {
  "kernelspec": {
   "display_name": "R",
   "language": "R",
   "name": "ir"
  },
  "language_info": {
   "codemirror_mode": "r",
   "file_extension": ".r",
   "mimetype": "text/x-r-source",
   "name": "R",
   "pygments_lexer": "r",
   "version": "4.0.3"
  }
 },
 "nbformat": 4,
 "nbformat_minor": 4
}
